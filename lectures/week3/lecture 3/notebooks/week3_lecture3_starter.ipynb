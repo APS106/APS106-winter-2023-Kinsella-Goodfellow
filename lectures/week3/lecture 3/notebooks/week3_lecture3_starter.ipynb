{
 "cells": [
  {
   "cell_type": "markdown",
   "metadata": {},
   "source": [
    "### APS106 Lecture Notes - Week 3, Design Problem\n",
    "\n",
    "## Problem Background\n",
    "\n",
    "You just finished your APS106 midterm and heading to dinner with a few friends. However, no one can decide what to eat. Recently, your friends have been watching the Big Bang Theory and are planning on using Rock-Paper-Scissors-Lizard-Spock to decide.\n",
    "\n",
    "However, to truly make the game fun, you will be playing each other! The person with the best record in this round-robin tournament will decide what to eat. Thus, write a Python program using conditional statements and two user inputs to play Rock-Paper-Scissors-Lizard-Spock against your friend.\n",
    "\n",
    "Keep in mind that you are hungry! Make sure your code is efficient, well-thought-out, and accounts for all possibilities.\n",
    "\n",
    "Here is a link to how the game works, courtesy of the Big Bang Theory: https://www.youtube.com/watch?v=IFurn06BDuc (upto 1:14)\n",
    "\n",
    "And a visual for those who do not want to watch the clip: https://files.realpython.com/media/rps-lizardspock.88cf9623a6f0.png"
   ]
  },
  {
   "cell_type": "markdown",
   "metadata": {},
   "source": [
    "## Define the problem\n",
    "Given the spin on the classic rock-paper-scissors-game, we must develop a Python program with two user inputs and conditional statements, that obeys the game's rules, and accounts for all possible scenarios.\n",
    "\n",
    "<br>\n",
    "<img src=\"images/RockPaperScissors.jpg\" alt=\"drawing\" width=\"600\"/>\n",
    "<br>\n",
    "\n",
    "<br>\n",
    "<img src=\"images/RockPaperScissorsLizardSpock.jpg\" alt=\"drawing\" width=\"600\"/>\n",
    "<br>\n",
    "\n",
    "The difficulty in this problem lies in the implementation of the game with the comparison of user inputs. Do we want to use many if-statements? Is there a simpler way to do it? Let's consider some test cases first."
   ]
  },
  {
   "cell_type": "markdown",
   "metadata": {},
   "source": [
    "## Define Test Cases\n",
    "\n",
    "Let's start with the easiest case of rock and scissors.\n",
    "It is quite simple, if User 1 selects rock and User 2 selects scissors then our program must decide who wins!\n",
    "\n",
    "What if the users tie? How would we recognize that?\n",
    "\n",
    "But what if either of the users makes a typo? Or selects an option not present?\n",
    "Our program must be able to recognize this and correct for it!"
   ]
  },
  {
   "cell_type": "markdown",
   "metadata": {},
   "source": [
    "## Generate multiple solutions\n",
    "Based on what we have learned so far, our program must:\n",
    " 1) Use if-statements to outline all possibilities\n",
    " 2) Use a select_winner function to determine who won between the user inputs\n",
    "\n",
    "Thus, a fantastic algorithmic plan would be:\n",
    "1. Get Rock-Paper-Scissors-Lizard-Spock (RPSLS) selection from the users\n",
    "2. Compare to determine who wins\n",
    "3. Display winner on the screen!\n",
    "\n",
    "What about a Programming Plan? The first and last step look easy while Step 2 may require some thinking. So let's try the following\n",
    "1. Write code to get input from the users and store in two variables.\n",
    "2. Figure out how to compare inputs and compute to see who won.\n",
    "3. Write code to display the winner.\n",
    "\n",
    "Note that I don't really know how to do Step 2 of the Programming Plan yet - and arguably it is the hardest part - but I like to have some code written and working. So let's give Step 1 a try.\n",
    "\n",
    "### Step 1: Write code to get input from the users and store in two variables."
   ]
  },
  {
   "cell_type": "code",
   "execution_count": 1,
   "metadata": {},
   "outputs": [
    {
     "name": "stdout",
     "output_type": "stream",
     "text": [
      " \n"
     ]
    }
   ],
   "source": [
    "player1_guess = input('Enter your choice Player 1: (Options: rock, spock, paper, lizard, scissors)')\n",
    "player2_guess = input('Enter your choice Player 2: (Options: rock, spock, paper, lizard, scissors)')\n",
    "\n",
    "print(player1_guess, player2_guess)"
   ]
  },
  {
   "cell_type": "markdown",
   "metadata": {},
   "source": [
    "OK easy enough. Let's get into the meat of the problem and write a function to determine the winner.\n",
    "\n",
    "### Step 2: Write code to determine the winner\n",
    "A function `rpsls_winner` is given below to implement the game. Read through the code and test it out..."
   ]
  },
  {
   "cell_type": "code",
   "execution_count": 2,
   "metadata": {},
   "outputs": [
    {
     "name": "stdout",
     "output_type": "stream",
     "text": [
      "It's a tie!\n"
     ]
    }
   ],
   "source": [
    "# function which selects the winner\n",
    "def rpsls_winner(input1, input2):\n",
    "    \"\"\"\n",
    "    (str, str) -> int\n",
    "    \n",
    "    Determine winner of a two person rock-paper-scissors-lizard-spock game from two user inputs\n",
    "    If input1 wins, return -1\n",
    "    If input2 wins, return 1\n",
    "    If it's a tie, return 0\n",
    "    \n",
    "    \"\"\"\n",
    "\n",
    "    if (input1 == input2):\n",
    "        return 0\n",
    "    elif (input1 == 'rock') & (input2 == 'scissors'):\n",
    "        return -1\n",
    "    elif (input1 == 'scissors') & (input2 == 'rock'):\n",
    "        return 1\n",
    "    elif (input1 == 'rock') & (input2 == 'paper'):\n",
    "        return 1\n",
    "    elif (input1 == 'paper') & (input2 == 'rock'):\n",
    "        return -1\n",
    "    elif (input1 == 'rock') & (input2 == 'lizard'):\n",
    "        return -1\n",
    "    elif (input1 == 'lizard') & (input2 == 'rock'):\n",
    "        return 1\n",
    "    elif (input1 == 'rock') & (input2 == 'spock'):\n",
    "        return 1\n",
    "    elif (input1 == 'spock') & (input2 == 'rock'):\n",
    "        return -1\n",
    "    elif (input1 == 'paper') & (input2 == 'spock'):\n",
    "        return -1\n",
    "    elif (input1 == 'spock') & (input2 == 'paper'):\n",
    "        return 1\n",
    "    elif (input1 == 'paper') & (input2 == 'scissors'):\n",
    "        return 1\n",
    "    elif (input1 == 'scissors') & (input2 == 'paper'):\n",
    "        return -1\n",
    "    elif (input1 == 'paper') & (input2 == 'lizard'):\n",
    "        return 1\n",
    "    elif (input1 == 'lizard') & (input2 == 'paper'):\n",
    "        return -1\n",
    "    elif (input1 == 'lizard') & (input2 == 'scissors'):\n",
    "        return 1\n",
    "    elif (input1 == 'scissors') & (input2 == 'lizard'):\n",
    "        return -1\n",
    "    elif (input1 == 'scissors') & (input2 == 'spock'):\n",
    "        return 1\n",
    "    elif (input1 == 'spock') & (input2 == 'scissors'):\n",
    "        return -1\n",
    "    elif (input1 == 'spock') & (input2 == 'lizard'):\n",
    "        return 1\n",
    "    elif (input1 == 'lizard') & (input2 == 'spock'):\n",
    "        return -1\n",
    "    else:\n",
    "        print (\"Input is not a character in RPSLS\")\n",
    "        return 0 # since we can't determine who wins\n",
    "\n",
    "player1_guess = input('Enter your choice Player 1: (Options: rock, spock, paper, lizard, scissors)')\n",
    "player2_guess = input('Enter your choice Player 2: (Options: rock, spock, paper, lizard, scissors)')\n",
    "winner = rpsls_winner(str(player1_guess), str(player2_guess))\n",
    "if winner == 1:\n",
    "    print(\"Player 2 wins!\")\n",
    "elif winner == -1:\n",
    "    print(\"Player 1 wins!\")\n",
    "else:\n",
    "    print(\"It's a tie!\")"
   ]
  },
  {
   "cell_type": "markdown",
   "metadata": {},
   "source": [
    "What do we think? The code is pretty straight forward and might be a good place to start. But as engineers and programmers, one question should come to mind: *can we do better?* \n",
    "\n",
    "### Mini breakout\n",
    "With your team, and based on what you've learned about good programming practice, discuss the shortcomings of this solution. You don't need to come up with concrete improvements yet."
   ]
  },
  {
   "cell_type": "markdown",
   "metadata": {},
   "source": [
    "### (Potential) Problems with above solution\n",
    "\n",
    "Jot down some notes as a team about what could be improved..."
   ]
  },
  {
   "cell_type": "markdown",
   "metadata": {},
   "source": [
    "### Step 2 revisited\n",
    "One issue with the version of `rpsls_winner` written above is the number of if-elif statements we have to write. It seems like too much code to write for our little game. So let's try and think of a way to do it better. \n",
    "\n",
    "Let's break the problem down and try and solve it incrementally. We can start by creating a sub-algorithm to solve a simple part of the problem. Remember our original algorithm plan was:\n",
    "1. Get Rock-Paper-Scissors-Lizard-Spock (RPSLS) selection from the users\n",
    "2. Compare to determine who wins\n",
    "3. Display winner on the screen!\n",
    "\n",
    "The second step is the hard part and it's not obvious what our code will need to do for step 2, so let's create a sub-Algorithm Plan for this step.\n",
    "\n",
    "2a. If the two choices are the same, return 0 from the function\n",
    "2b. Else compare the two choices which are now guaranteed to be different."
   ]
  },
  {
   "cell_type": "code",
   "execution_count": 3,
   "metadata": {},
   "outputs": [
    {
     "name": "stdout",
     "output_type": "stream",
     "text": [
      "'dsf sdf\n",
      "Not a tie. I don't know how to do this ... yet\n",
      "0\n"
     ]
    }
   ],
   "source": [
    "def rpsls_winner(input1, input2):\n",
    "    \"\"\"\n",
    "    (str, str) -> int\n",
    "    Determine winner of a two person rock-paper-scissors-lizard-spock game from two user inputs\n",
    "    If input1 wins, return -1\n",
    "    If input2 wins, return 1\n",
    "    \"\"\"\n",
    "    return_value = 0 # our initial assumption is that the game is a tie\n",
    "    if input1 != input2: # check the assumption that the game is a tie\n",
    "        print(\"Not a tie. I don't know how to do this ... yet\")\n",
    "        \n",
    "    return return_value\n",
    "\n",
    "player1_guess = input('Enter your choice Player 1: (Options: rock, spock, paper, lizard, scissors)')\n",
    "player2_guess = input('Enter your choice Player 2: (Options: rock, spock, paper, lizard, scissors)')\n",
    "\n",
    "print(player1_guess, player2_guess)\n",
    "print(rpsls_winner(player1_guess, player2_guess))"
   ]
  },
  {
   "cell_type": "markdown",
   "metadata": {},
   "source": [
    "OK, so now we need to address the hardest part: how do we determine who wins. There are two ideas you could have:\n",
    "\n",
    "1. An if-statement, elif, or nested if-statements to enumerate all the possible comparisons. \n",
    "2. See if we can somehow encode the answers (e.g. as numbers) and then do some math to figure out who wins.\n",
    "\n",
    "The second option seems hard (and you might not even be sure if it is possible. Hint: it is). It looks more elegant but let's consider what the first option could look like. The key to improving our initial solution will be to organize our if-statements so we don't have to explicity check every condition. \n",
    "\n",
    "We are still investigating options here and so let's not try to create the whole solution. Let's try to get a picture of what the whole solution will look like by solving a smaller problem: just rock-paper-scissors.\n",
    "\n",
    "One insight: we have already tested whether the result is a tie. So now if we just define the conditions for player1 to win, all the other conditions are player2 winning.\n",
    "\n",
    "### Breakout \n",
    "Complete the function below to determine the winner of a game of rock-paper-scissors"
   ]
  },
  {
   "cell_type": "code",
   "execution_count": 4,
   "metadata": {},
   "outputs": [],
   "source": [
    "def rpsls_winner(input1, input2):\n",
    "    \"\"\"\n",
    "    (str, str) -> int\n",
    "    Determine winner of a two person rock-paper-scissors-lizard-spock game from two user inputs\n",
    "        rock beats scissors\n",
    "        scissors beats paper\n",
    "        paper beats rock\n",
    "    If input1 wins, return -1\n",
    "    If input2 wins, return 1\n",
    "    \"\"\"\n",
    "    return_value = 0 # our initial assumption is that the game is a tie\n",
    "    if input1 != input2: # check the assumption that the game is a tie\n",
    "        # not a tie\n",
    "        return_value = 1 # assume player2 wins\n",
    "        \n",
    "        # determine if player1 actually wins\n",
    "        \n",
    "        # BREAKOUT \n",
    "        \n",
    "    return return_value"
   ]
  },
  {
   "cell_type": "code",
   "execution_count": 5,
   "metadata": {},
   "outputs": [
    {
     "name": "stdout",
     "output_type": "stream",
     "text": [
      "sdf fsd\n",
      "sdf fsd\n",
      "1\n"
     ]
    }
   ],
   "source": [
    "# test the rock-paper-scissors code\n",
    "\n",
    "player1_guess = input('Enter your choice Player 1: (Options: rock, spock, paper, lizard, scissors)')\n",
    "player2_guess = input('Enter your choice Player 2: (Options: rock, spock, paper, lizard, scissors)')\n",
    "\n",
    "print(player1_guess, player2_guess)\n",
    "\n",
    "print(player1_guess, player2_guess)\n",
    "print(rpsls_winner(player1_guess, player2_guess))"
   ]
  },
  {
   "cell_type": "markdown",
   "metadata": {},
   "source": [
    "Let's look at our function. It seems pretty reasonable. Can we extend it to the full game? One problem is that in the full game for each choice of player 1 there are two other choices that beat it and two other choices that it beats. Can we incorporate that easily?"
   ]
  },
  {
   "cell_type": "code",
   "execution_count": 6,
   "metadata": {},
   "outputs": [],
   "source": [
    "# function which selects the winner\n",
    "def rpsls_winner(input1, input2):\n",
    "    \"\"\"\n",
    "    (str, str) -> int\n",
    "    Determine winner of a two person rock-paper-scissors-lizard-Spock game from two user inputs\n",
    "        rock beats scissors and lizard\n",
    "        scissors beats paper and lizard\n",
    "        paper beats rock and Spock\n",
    "        lizard beats paper and Spock\n",
    "        Spock beats scissors and rock\n",
    "    If input1 wins, return -1\n",
    "    If input2 wins, return 1\n",
    "    \"\"\"\n",
    "    return_value = 0\n",
    "    if input1 != input2:\n",
    "        # not a tie\n",
    "        return_value = 1 # assume player2 wins\n",
    "        \n",
    "        # determine if player1 actually wins\n",
    "        if ((input1 == 'rock') and (input2 == 'scissors' or input2 == 'lizard')) or \\\n",
    "           ((input1 == 'scissors') and (input2 == 'paper' or input2 == 'lizard')) or \\\n",
    "           ((input1 == 'paper') and (input2 == 'rock' or input2 == 'spock')) or \\\n",
    "           ((input1 == 'lizard') and (input2 == 'paper' or input2 == 'spock')) or \\\n",
    "           ((input1 == 'spock') and (input2 == 'scissors' or input2 == 'rock')):     \n",
    "            return_value = -1\n",
    "        \n",
    "    return return_value"
   ]
  },
  {
   "cell_type": "code",
   "execution_count": 7,
   "metadata": {},
   "outputs": [
    {
     "name": "stdout",
     "output_type": "stream",
     "text": [
      "sdf sdf\n",
      "sdf sdf\n",
      "It's a tie.\n"
     ]
    }
   ],
   "source": [
    "player1_guess = input('Enter your choice Player 1: (Options: rock, spock, paper, lizard, scissors)')\n",
    "player2_guess = input('Enter your choice Player 2: (Options: rock, spock, paper, lizard, scissors)')\n",
    "\n",
    "print(player1_guess, player2_guess)\n",
    "\n",
    "print(player1_guess, player2_guess)\n",
    "winner = rpsls_winner(player1_guess, player2_guess)\n",
    "if  winner == -1:\n",
    "    print(\"Player 1 wins\")\n",
    "elif winner == 1:\n",
    "    print(\"Player 2 wins\")\n",
    "else:\n",
    "    print(\"It's a tie.\")"
   ]
  },
  {
   "cell_type": "markdown",
   "metadata": {},
   "source": [
    "## Select a Solution\n",
    "\n",
    "Now that we have it working, we need to think about whether this is a good approach. The code we've written is pretty understandable - but you may have written code that looks a lot worse.\n",
    "\n",
    "Another way to solve the problem is to encode each choice as a number and then subtract the two players' choices. Based on the result, can you tell who won? (We'll leave that as a challenge).\n",
    "\n",
    "For now, it looks like the code is reasonable and so we can select it as a solution."
   ]
  },
  {
   "cell_type": "markdown",
   "metadata": {},
   "source": [
    "# What if we want to play against a computer? How would we handle that? We want the game to be truly random!"
   ]
  },
  {
   "cell_type": "code",
   "execution_count": 8,
   "metadata": {},
   "outputs": [],
   "source": [
    "import random\n",
    "\n",
    "def rpsls_winner(input1, input2):\n",
    "    \"\"\"\n",
    "    (str, str) -> int\n",
    "    Determine winner of a two person rock-paper-scissors-lizard-Spock game from two user inputs\n",
    "        rock beats scissors and lizard\n",
    "        scissors beats paper and lizard\n",
    "        paper beats rock and Spock\n",
    "        lizard beats paper and Spock\n",
    "        Spock beats scissors and rock\n",
    "    If input1 wins, return -1\n",
    "    If input2 wins, return 1\n",
    "    \"\"\"\n",
    "    return_value = 0\n",
    "    if input1 != input2:\n",
    "        # not a tie\n",
    "        return_value = 1 # assume player2 wins\n",
    "        \n",
    "        # determine if player1 actually wins\n",
    "        if ((input1 == 'rock') and (input2 == 'scissors' or input2 == 'lizard')) or \\\n",
    "           ((input1 == 'scissors') and (input2 == 'paper' or input2 == 'lizard')) or \\\n",
    "           ((input1 == 'paper') and (input2 == 'rock' or input2 == 'spock')) or \\\n",
    "           ((input1 == 'lizard') and (input2 == 'paper' or input2 == 'spock')) or \\\n",
    "           ((input1 == 'spock') and (input2 == 'scissors' or input2 == 'rock')):     \n",
    "            return_value = -1\n",
    "        \n",
    "    return return_value\n",
    "\n",
    "def generate_guess():\n",
    "    \"\"\"\n",
    "    Converts int number to a string name (choice in RPLS)\n",
    "    number_to_name(number) -> string\n",
    "    \"\"\"\n",
    "    # compute random guess for comp_number using random.randrange()\n",
    "    comp_number = random.randrange(0,5)\n",
    "\n",
    "    # we'll see in a few weeks that there is a better way to do this using lists\n",
    "    # for now, let's go with what we know\n",
    "    guess_number = random.randrange(0,5)\n",
    "    guess_str = \"\"\n",
    "    \n",
    "    if guess_number == 0:\n",
    "        guess_str = \"rock\"\n",
    "    elif guess_number == 1:\n",
    "        guess_str = \"spock\"\n",
    "    elif guess_number == 2:\n",
    "        guess_str = \"paper\"\n",
    "    elif guess_number == 3:\n",
    "        guess_str = \"lizard\"\n",
    "    elif guess_number == 4:\n",
    "        guess_str = \"scissors\"\n",
    "\n",
    "    return guess_str"
   ]
  },
  {
   "cell_type": "code",
   "execution_count": 9,
   "metadata": {},
   "outputs": [
    {
     "name": "stdout",
     "output_type": "stream",
     "text": [
      "Player:  Computer: paper\n",
      "Computer wins\n"
     ]
    },
    {
     "ename": "FileNotFoundError",
     "evalue": "[Errno 2] No such file or directory: 'images/.png'",
     "output_type": "error",
     "traceback": [
      "\u001B[1;31m---------------------------------------------------------------------------\u001B[0m",
      "\u001B[1;31mFileNotFoundError\u001B[0m                         Traceback (most recent call last)",
      "\u001B[1;32m~\\AppData\\Local\\Temp\\ipykernel_43836\\2227798613.py\u001B[0m in \u001B[0;36m<module>\u001B[1;34m\u001B[0m\n\u001B[0;32m     15\u001B[0m \u001B[1;33m\u001B[0m\u001B[0m\n\u001B[0;32m     16\u001B[0m \u001B[1;31m# just for fun we have a visualizer of the game\u001B[0m\u001B[1;33m\u001B[0m\u001B[1;33m\u001B[0m\u001B[1;33m\u001B[0m\u001B[0m\n\u001B[1;32m---> 17\u001B[1;33m \u001B[0mvisualizer\u001B[0m\u001B[1;33m(\u001B[0m\u001B[0mplayer1_guess\u001B[0m\u001B[1;33m,\u001B[0m \u001B[0mcomputer_guess\u001B[0m\u001B[1;33m,\u001B[0m \u001B[0mwinner\u001B[0m\u001B[1;33m)\u001B[0m\u001B[1;33m\u001B[0m\u001B[1;33m\u001B[0m\u001B[0m\n\u001B[0m",
      "\u001B[1;32m~\\PycharmProjects\\APS106-winter-2023-kinsella-goodfellow\\lectures\\week3\\lecture 3\\notebooks\\utils.py\u001B[0m in \u001B[0;36mvisualizer\u001B[1;34m(player1, player2, winner)\u001B[0m\n\u001B[0;32m     20\u001B[0m \u001B[1;33m\u001B[0m\u001B[0m\n\u001B[0;32m     21\u001B[0m     \u001B[1;31m# Player 1\u001B[0m\u001B[1;33m\u001B[0m\u001B[1;33m\u001B[0m\u001B[1;33m\u001B[0m\u001B[0m\n\u001B[1;32m---> 22\u001B[1;33m     \u001B[0mplayer1_image\u001B[0m \u001B[1;33m=\u001B[0m \u001B[0mmpimg\u001B[0m\u001B[1;33m.\u001B[0m\u001B[0mimread\u001B[0m\u001B[1;33m(\u001B[0m\u001B[1;34m'images/{}.png'\u001B[0m\u001B[1;33m.\u001B[0m\u001B[0mformat\u001B[0m\u001B[1;33m(\u001B[0m\u001B[0mplayer1\u001B[0m\u001B[1;33m.\u001B[0m\u001B[0mlower\u001B[0m\u001B[1;33m(\u001B[0m\u001B[1;33m)\u001B[0m\u001B[1;33m)\u001B[0m\u001B[1;33m)\u001B[0m\u001B[1;33m\u001B[0m\u001B[1;33m\u001B[0m\u001B[0m\n\u001B[0m\u001B[0;32m     23\u001B[0m     \u001B[0max1\u001B[0m\u001B[1;33m.\u001B[0m\u001B[0mset_title\u001B[0m\u001B[1;33m(\u001B[0m\u001B[1;34m'Player 1'\u001B[0m\u001B[1;33m,\u001B[0m \u001B[0mfontsize\u001B[0m\u001B[1;33m=\u001B[0m\u001B[1;36m24\u001B[0m\u001B[1;33m,\u001B[0m \u001B[0my\u001B[0m\u001B[1;33m=\u001B[0m\u001B[1;36m1.05\u001B[0m\u001B[1;33m)\u001B[0m\u001B[1;33m\u001B[0m\u001B[1;33m\u001B[0m\u001B[0m\n\u001B[0;32m     24\u001B[0m     \u001B[0max1\u001B[0m\u001B[1;33m.\u001B[0m\u001B[0mimshow\u001B[0m\u001B[1;33m(\u001B[0m\u001B[0mplayer1_image\u001B[0m\u001B[1;33m)\u001B[0m\u001B[1;33m\u001B[0m\u001B[1;33m\u001B[0m\u001B[0m\n",
      "\u001B[1;32m~\\anaconda3\\envs\\PycharmProjects\\lib\\site-packages\\matplotlib\\image.py\u001B[0m in \u001B[0;36mimread\u001B[1;34m(fname, format)\u001B[0m\n\u001B[0;32m   1558\u001B[0m                     \u001B[0mresponse\u001B[0m \u001B[1;33m=\u001B[0m \u001B[0mio\u001B[0m\u001B[1;33m.\u001B[0m\u001B[0mBytesIO\u001B[0m\u001B[1;33m(\u001B[0m\u001B[0mresponse\u001B[0m\u001B[1;33m.\u001B[0m\u001B[0mread\u001B[0m\u001B[1;33m(\u001B[0m\u001B[1;33m)\u001B[0m\u001B[1;33m)\u001B[0m\u001B[1;33m\u001B[0m\u001B[1;33m\u001B[0m\u001B[0m\n\u001B[0;32m   1559\u001B[0m                 \u001B[1;32mreturn\u001B[0m \u001B[0mimread\u001B[0m\u001B[1;33m(\u001B[0m\u001B[0mresponse\u001B[0m\u001B[1;33m,\u001B[0m \u001B[0mformat\u001B[0m\u001B[1;33m=\u001B[0m\u001B[0mext\u001B[0m\u001B[1;33m)\u001B[0m\u001B[1;33m\u001B[0m\u001B[1;33m\u001B[0m\u001B[0m\n\u001B[1;32m-> 1560\u001B[1;33m     \u001B[1;32mwith\u001B[0m \u001B[0mimg_open\u001B[0m\u001B[1;33m(\u001B[0m\u001B[0mfname\u001B[0m\u001B[1;33m)\u001B[0m \u001B[1;32mas\u001B[0m \u001B[0mimage\u001B[0m\u001B[1;33m:\u001B[0m\u001B[1;33m\u001B[0m\u001B[1;33m\u001B[0m\u001B[0m\n\u001B[0m\u001B[0;32m   1561\u001B[0m         return (_pil_png_to_float_array(image)\n\u001B[0;32m   1562\u001B[0m                 \u001B[1;32mif\u001B[0m \u001B[0misinstance\u001B[0m\u001B[1;33m(\u001B[0m\u001B[0mimage\u001B[0m\u001B[1;33m,\u001B[0m \u001B[0mPIL\u001B[0m\u001B[1;33m.\u001B[0m\u001B[0mPngImagePlugin\u001B[0m\u001B[1;33m.\u001B[0m\u001B[0mPngImageFile\u001B[0m\u001B[1;33m)\u001B[0m \u001B[1;32melse\u001B[0m\u001B[1;33m\u001B[0m\u001B[1;33m\u001B[0m\u001B[0m\n",
      "\u001B[1;32m~\\anaconda3\\envs\\PycharmProjects\\lib\\site-packages\\PIL\\Image.py\u001B[0m in \u001B[0;36mopen\u001B[1;34m(fp, mode, formats)\u001B[0m\n\u001B[0;32m   3129\u001B[0m \u001B[1;33m\u001B[0m\u001B[0m\n\u001B[0;32m   3130\u001B[0m     \u001B[1;32mif\u001B[0m \u001B[0mfilename\u001B[0m\u001B[1;33m:\u001B[0m\u001B[1;33m\u001B[0m\u001B[1;33m\u001B[0m\u001B[0m\n\u001B[1;32m-> 3131\u001B[1;33m         \u001B[0mfp\u001B[0m \u001B[1;33m=\u001B[0m \u001B[0mbuiltins\u001B[0m\u001B[1;33m.\u001B[0m\u001B[0mopen\u001B[0m\u001B[1;33m(\u001B[0m\u001B[0mfilename\u001B[0m\u001B[1;33m,\u001B[0m \u001B[1;34m\"rb\"\u001B[0m\u001B[1;33m)\u001B[0m\u001B[1;33m\u001B[0m\u001B[1;33m\u001B[0m\u001B[0m\n\u001B[0m\u001B[0;32m   3132\u001B[0m         \u001B[0mexclusive_fp\u001B[0m \u001B[1;33m=\u001B[0m \u001B[1;32mTrue\u001B[0m\u001B[1;33m\u001B[0m\u001B[1;33m\u001B[0m\u001B[0m\n\u001B[0;32m   3133\u001B[0m \u001B[1;33m\u001B[0m\u001B[0m\n",
      "\u001B[1;31mFileNotFoundError\u001B[0m: [Errno 2] No such file or directory: 'images/.png'"
     ]
    },
    {
     "data": {
      "text/plain": "<Figure size 2000x600 with 3 Axes>",
      "image/png": "[encoded data removed]"
     },
     "metadata": {},
     "output_type": "display_data"
    }
   ],
   "source": [
    "from utils import visualizer\n",
    "\n",
    "player1_guess = input('Enter your choice (Options: rock, spock, paper, lizard, scissors): ')\n",
    "computer_guess = generate_guess()\n",
    "\n",
    "print(\"Player:\",player1_guess, \"Computer:\", computer_guess)\n",
    "\n",
    "winner = rpsls_winner(player1_guess, computer_guess)\n",
    "if  winner == -1:\n",
    "    print(\"Player 1 wins\")\n",
    "elif winner == 1:\n",
    "    print(\"Computer wins\")\n",
    "else:\n",
    "    print(\"It's a tie.\")\n",
    "\n",
    "# just for fun we have a visualizer of the game\n",
    "visualizer(player1_guess, computer_guess, winner)"
   ]
  }
 ],
 "metadata": {
  "kernelspec": {
   "display_name": "Python 3",
   "language": "python",
   "name": "python3"
  },
  "language_info": {
   "codemirror_mode": {
    "name": "ipython",
    "version": 3
   },
   "file_extension": ".py",
   "mimetype": "text/x-python",
   "name": "python",
   "nbconvert_exporter": "python",
   "pygments_lexer": "ipython3",
   "version": "3.7.10"
  }
 },
 "nbformat": 4,
 "nbformat_minor": 1
}