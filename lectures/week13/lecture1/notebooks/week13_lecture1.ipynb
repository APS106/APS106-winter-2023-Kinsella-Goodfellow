{
 "cells": [
  {
   "cell_type": "markdown",
   "source": [
    "# APS106 - Fundamentals of Computer Programming\n",
    "## Week 13 | Lecture 1 (13.1) - Review Breakout Sessions\n",
    "\n",
    "### This Week\n",
    "| Lecture  | Topics                          |\n",
    "|----------|---------------------------------|\n",
    "| **13.1** | ** Review topics **\n",
    "| 13.2     | Long Answer Past Exam Questions\n",
    "| 13.3     | Final Exam Jeopardy\n",
    "### Lecture Structure\n",
    "1. CSV breakout session\n",
    "2. Linked List Breakout Sessions"
   ],
   "metadata": {
    "collapsed": false
   }
  },
  {
   "cell_type": "markdown",
   "source": [
    " <a id='section1'></a>\n",
    "## 1. Working with Files\n",
    "\n",
    "If you are going to write programs that do something with data, you do not want to hard-code all that data or have the user enter it again and again. You need to be able to write to and read from files.\n",
    "\n",
    "When a program is running, its data is in RAM - fast, volatile memory. Volatile means that the data disappears as soon as the program ends. Files are a way to organize data on slower, persistent media (e.g. a disk, USB, etc). This data will stay there when the program is done.\n",
    "\n",
    "Working with files is a lot like working with a notebook.\n",
    "\n",
    "- A file has to be opened.\n",
    "- When you are done, it has to be closed.\n",
    "- While the file is open, it can either be read from or written to.\n",
    "- Like a bookmark, the file keeps track of where you are reading to or writing from.\n",
    "- You can read the whole file in its natural order or you can skip around.\n",
    "\n",
    "### Opening and Closing a File\n",
    "\n",
    "Python has a built-in function where you specify the filename and the mode of access (\"w\" = write, \"r\" = read, \"a\" = append)."
   ],
   "metadata": {
    "collapsed": false
   }
  },
  {
   "cell_type": "code",
   "execution_count": 131,
   "outputs": [],
   "source": [
    "myfile = open(\"test.txt\", \"w\")\n",
    "#type(myfile)\n",
    "#dir(myfile)"
   ],
   "metadata": {
    "collapsed": false,
    "pycharm": {
     "name": "#%%\n"
    }
   }
  },
  {
   "cell_type": "markdown",
   "source": [
    "This command will open `test.txt` in the folder where the program is being executed. If `test.txt` does not exist it will be created. If it does exist, it will be **over-written!!!**\n",
    "\n",
    "`myfile` is an object that keeps track of information about the file (e.g., where you are in it). If you want to write to (or read from) the file, you need to do so via the file object."
   ],
   "metadata": {
    "collapsed": false
   }
  },
  {
   "cell_type": "code",
   "execution_count": 132,
   "outputs": [
    {
     "data": {
      "text/plain": "5"
     },
     "execution_count": 132,
     "metadata": {},
     "output_type": "execute_result"
    }
   ],
   "source": [
    "myfile.write(\"CATS!\")"
   ],
   "metadata": {
    "collapsed": false,
    "pycharm": {
     "name": "#%%\n"
    }
   }
  },
  {
   "cell_type": "markdown",
   "source": [
    "This command writes a string to myfile. It is like `print` but does not add the newline. So:"
   ],
   "metadata": {
    "collapsed": false
   }
  },
  {
   "cell_type": "code",
   "execution_count": 133,
   "outputs": [],
   "source": [
    "myfile.write(\"\\n\")\n",
    "myfile.write(\"I <3 APS106\\n\")  #need to add \\n newline character, unlike print()\n",
    "\n",
    "myfile.close()"
   ],
   "metadata": {
    "collapsed": false,
    "pycharm": {
     "name": "#%%\n"
    }
   }
  },
  {
   "cell_type": "code",
   "execution_count": 134,
   "outputs": [],
   "source": [
    "myfile = open('test.txt','w')  #what happens to file changing modes between 'a' and 'w'\n",
    "myfile.write('hola')\n",
    "myfile.close()"
   ],
   "metadata": {
    "collapsed": false,
    "pycharm": {
     "name": "#%%\n"
    }
   }
  },
  {
   "cell_type": "markdown",
   "source": [
    " <a id='section2'></a>\n",
    "## 2. Writing a dictionary to file\n",
    "\n"
   ],
   "metadata": {
    "collapsed": false
   }
  },
  {
   "cell_type": "code",
   "execution_count": 135,
   "outputs": [],
   "source": [
    "#GENERAL FORM\n",
    "\n",
    "# create a file object\n",
    "myfile = open(\"grades.txt\", \"w\")\n",
    "#print('Type:',type(myfile))\n",
    "\n",
    "\n",
    "# write a string to file\n",
    "myfile.write('string\\n')\n",
    "# Think back to last class - one of the print parameters is file!\n",
    "print('look what print can do!', file=myfile)\n",
    "\n",
    "\n",
    "# close the file\n",
    "myfile.close()"
   ],
   "metadata": {
    "collapsed": false,
    "pycharm": {
     "name": "#%%\n"
    }
   }
  },
  {
   "cell_type": "code",
   "execution_count": 136,
   "outputs": [
    {
     "name": "stdout",
     "output_type": "stream",
     "text": [
      "Help on built-in function print in module builtins:\n",
      "\n",
      "print(...)\n",
      "    print(value, ..., sep=' ', end='\\n', file=sys.stdout, flush=False)\n",
      "    \n",
      "    Prints the values to a stream, or to sys.stdout by default.\n",
      "    Optional keyword arguments:\n",
      "    file:  a file-like object (stream); defaults to the current sys.stdout.\n",
      "    sep:   string inserted between values, default a space.\n",
      "    end:   string appended after the last value, default a newline.\n",
      "    flush: whether to forcibly flush the stream.\n",
      "\n"
     ]
    }
   ],
   "source": [
    "help(print)"
   ],
   "metadata": {
    "collapsed": false,
    "pycharm": {
     "name": "#%%\n"
    }
   }
  },
  {
   "cell_type": "code",
   "execution_count": 137,
   "outputs": [],
   "source": [
    "students = {'Kendrick': 'A+', 'Dre': 'C-', 'Snoop': 'B'}\n",
    "\n",
    "# create a file\n",
    "myfile = open(\"grades.txt\", \"w\")\n",
    "\n",
    "# store dictionary items to the file\n",
    "for student in students:\n",
    "    myfile.write(student + ',' + students[student] + '\\n')\n",
    "\n",
    "# close the file\n",
    "myfile.close()"
   ],
   "metadata": {
    "collapsed": false,
    "pycharm": {
     "name": "#%%\n"
    }
   }
  },
  {
   "cell_type": "markdown",
   "source": [
    "The next `write` statement writes the string where ever we left off. When we are done, the file needs to be closed. This tells the file object that we are done and it should clean things up."
   ],
   "metadata": {
    "collapsed": false
   }
  },
  {
   "cell_type": "markdown",
   "source": [
    "Now we can go to the folder where the jupyter notebook is and observe that there is a file there called text.txt containing the lines that we wrote out.\n",
    "\n",
    "<a id='section3'></a>\n",
    "## 3. Reading Files\n",
    "\n",
    "Now that the file exists on our disk, we can open it, this time for reading, and read all the lines in the file, one at a time. This time, the mode argument is \"r\" for reading:"
   ],
   "metadata": {
    "collapsed": false
   }
  },
  {
   "cell_type": "markdown",
   "source": [
    "There are four common ways to read a file.\n",
    "\n",
    "### read"
   ],
   "metadata": {
    "collapsed": false
   }
  },
  {
   "cell_type": "code",
   "execution_count": 138,
   "outputs": [],
   "source": [
    "#declaring filename to change easily if you want to try with different files\n",
    "filename = 'grades.txt'"
   ],
   "metadata": {
    "collapsed": false,
    "pycharm": {
     "name": "#%%\n"
    }
   }
  },
  {
   "cell_type": "code",
   "execution_count": 139,
   "outputs": [
    {
     "name": "stdout",
     "output_type": "stream",
     "text": [
      "Kendrick,A+\n",
      "Dre,C-\n",
      "Snoop,B\n",
      "\n"
     ]
    }
   ],
   "source": [
    "# Approach: read\n",
    "# When to use it: When you want to read the whole file at once and use it as a single string.\n",
    "# Example code\n",
    "myfile = open(filename, 'r')\n",
    "contents = myfile.read() # contents is a string that contains the entire contents of the file\n",
    "myfile.close()\n",
    "print(contents)  #what if we don't use print and just output the variable?"
   ],
   "metadata": {
    "collapsed": false,
    "pycharm": {
     "name": "#%%\n"
    }
   }
  },
  {
   "cell_type": "markdown",
   "source": [
    "### readline"
   ],
   "metadata": {
    "collapsed": false
   }
  },
  {
   "cell_type": "code",
   "execution_count": 140,
   "outputs": [
    {
     "name": "stdout",
     "output_type": "stream",
     "text": [
      "Kendrick,A+\n",
      "\n",
      "Kendrick,A+\n",
      "Dre,C-\n",
      "Snoop,B\n",
      "\n"
     ]
    }
   ],
   "source": [
    "# Approach: readline\n",
    "# When to use it: When you want to process the file line-by-line\n",
    "# Example code\n",
    "myfile = open(filename, 'r')\n",
    "line = myfile.readline()\n",
    "print(line)\n",
    "contents = ''\n",
    "while line:\n",
    "    contents += line\n",
    "    line = myfile.readline() # each time through the loop line contains one line of the file\n",
    "myfile.close()\n",
    "print(contents)\n",
    "# by the end of this contents contains the entire contets of the file"
   ],
   "metadata": {
    "collapsed": false,
    "pycharm": {
     "name": "#%%\n"
    }
   }
  },
  {
   "cell_type": "markdown",
   "source": [
    "### for line in file"
   ],
   "metadata": {
    "collapsed": false
   }
  },
  {
   "cell_type": "code",
   "execution_count": 141,
   "outputs": [
    {
     "name": "stdout",
     "output_type": "stream",
     "text": [
      "Kendrick,A+\n",
      "Dre,C-\n",
      "Snoop,B\n",
      "\n"
     ]
    }
   ],
   "source": [
    "# Approach: for line in file\n",
    "# When to use it: When you want to process the file line-by-line\n",
    "# Example code\n",
    "myfile = open(filename, 'r')\n",
    "contents = ''\n",
    "for line in myfile: # each time through the loop line contains one line of the file\n",
    "    contents += line\n",
    "    #print(line)  #why is there a gap between rows?\n",
    "myfile.close()\n",
    "\n",
    "print(contents)\n",
    "# by the end of this contents contains the entire contets of the file"
   ],
   "metadata": {
    "collapsed": false,
    "pycharm": {
     "name": "#%%\n"
    }
   }
  },
  {
   "cell_type": "markdown",
   "source": [
    "### readlines"
   ],
   "metadata": {
    "collapsed": false
   }
  },
  {
   "cell_type": "code",
   "execution_count": 142,
   "outputs": [
    {
     "name": "stdout",
     "output_type": "stream",
     "text": [
      "['Kendrick,A+\\n', 'Dre,C-\\n', 'Snoop,B\\n']\n"
     ]
    }
   ],
   "source": [
    "# Approach: readlines\n",
    "# When to use it: When you want to process the file line-by-line with an index\n",
    "# Example code\n",
    "myfile = open(filename, 'r')\n",
    "lines = myfile.readlines() # lines is a list of strings. Each entry in lines is a line of the file\n",
    "myfile.close()\n",
    "print(lines)"
   ],
   "metadata": {
    "collapsed": false,
    "pycharm": {
     "name": "#%%\n"
    }
   }
  },
  {
   "cell_type": "markdown",
   "source": [
    "Now let's go through the options in more depth, one at a time."
   ],
   "metadata": {
    "collapsed": false
   }
  },
  {
   "cell_type": "markdown",
   "source": [
    "### The read approach\n",
    "\n",
    "Read the whole file into a string. **Beware: If the file is huge, this can create problems!**"
   ],
   "metadata": {
    "collapsed": false
   }
  },
  {
   "cell_type": "code",
   "execution_count": 143,
   "outputs": [],
   "source": [
    "flanders_file = open('flanders.txt','w')\n",
    "flanders_file.write('''\n",
    "In Flanders Fields\n",
    "\n",
    "In Flanders fields the poppies blow\n",
    "Between the crosses, row on row,\n",
    "That mark our place; and in the sky\n",
    "The larks, still bravely singing, fly\n",
    "Scarce heard amid the guns below.\n",
    "We are the Dead. Short days ago\n",
    "We lived, felt dawn, saw sunset glow,\n",
    "Loved and were loved, and now we lie\n",
    "In Flanders fields.\n",
    "Take up our quarrel with the foe:\n",
    "To you from failing hands we throw\n",
    "The torch; be yours to hold it high.\n",
    "If ye break faith with us who die\n",
    "We shall not sleep, though poppies grow\n",
    "In Flanders fields.''')\n",
    "flanders_file.close()"
   ],
   "metadata": {
    "collapsed": false,
    "pycharm": {
     "name": "#%%\n"
    }
   }
  },
  {
   "cell_type": "code",
   "execution_count": 144,
   "outputs": [
    {
     "name": "stdout",
     "output_type": "stream",
     "text": [
      "<class 'str'>\n",
      "\n",
      "In Flanders Fields\n",
      "\n",
      "In Flanders fields the poppies blow\n",
      "Between the crosses, row on row,\n",
      "That mark our place; and in the sky\n",
      "The larks, still bravely singing, fly\n",
      "Scarce heard amid the guns below.\n",
      "We are the Dead. Short days ago\n",
      "We lived, felt dawn, saw sunset glow,\n",
      "Loved and were loved, and now we lie\n",
      "In Flanders fields.\n",
      "Take up our quarrel with the foe:\n",
      "To you from failing hands we throw\n",
      "The torch; be yours to hold it high.\n",
      "If ye break faith with us who die\n",
      "We shall not sleep, though poppies grow\n",
      "In Flanders fields.\n"
     ]
    },
    {
     "data": {
      "text/plain": "'\\nIn Flanders Fields\\n\\nIn Flanders fields the poppies blow\\nBetween the crosses, row on row,\\nThat mark our place; and in the sky\\nThe larks, still bravely singing, fly\\nScarce heard amid the guns below.\\nWe are the Dead. Short days ago\\nWe lived, felt dawn, saw sunset glow,\\nLoved and were loved, and now we lie\\nIn Flanders fields.\\nTake up our quarrel with the foe:\\nTo you from failing hands we throw\\nThe torch; be yours to hold it high.\\nIf ye break faith with us who die\\nWe shall not sleep, though poppies grow\\nIn Flanders fields.'"
     },
     "execution_count": 144,
     "metadata": {},
     "output_type": "execute_result"
    }
   ],
   "source": [
    "flanders_file = open(\"flanders.txt\", 'r')\n",
    "flanders_poem = flanders_file.read()\n",
    "flanders_file.close()\n",
    "\n",
    "print(type(flanders_poem))\n",
    "print(flanders_poem)\n",
    "flanders_poem"
   ],
   "metadata": {
    "collapsed": false,
    "pycharm": {
     "name": "#%%\n"
    }
   }
  },
  {
   "cell_type": "markdown",
   "source": [
    "Q: If `flanders_poem` is a string, why does it print out across multiple lines?"
   ],
   "metadata": {
    "collapsed": false
   }
  },
  {
   "cell_type": "markdown",
   "source": [
    "### The readline approach\n",
    "\n",
    "Read the file line-by-line into a string. This is a safer thing to do as the whole file never gets put in memory at once. Note that the file must be kept open if you still want to read the next line - unlike above where you can close the file immediately after `read()`."
   ],
   "metadata": {
    "collapsed": false
   }
  },
  {
   "cell_type": "code",
   "execution_count": 145,
   "outputs": [
    {
     "name": "stdout",
     "output_type": "stream",
     "text": [
      "<class 'str'>\n",
      "\n",
      "In Flanders Fields\n",
      "\n",
      "In Flanders fields the poppies blow\n",
      "Between the crosses, row on row,\n",
      "That mark our place; and in the sky\n",
      "The larks, still bravely singing, fly\n",
      "Scarce heard amid the guns below.\n",
      "We are the Dead. Short days ago\n",
      "We lived, felt dawn, saw sunset glow,\n",
      "Loved and were loved, and now we lie\n",
      "In Flanders fields.\n",
      "Take up our quarrel with the foe:\n",
      "To you from failing hands we throw\n",
      "The torch; be yours to hold it high.\n",
      "If ye break faith with us who die\n",
      "We shall not sleep, though poppies grow\n",
      "In Flanders fields."
     ]
    }
   ],
   "source": [
    "flanders_file = open(\"flanders.txt\", 'r')\n",
    "\n",
    "line = flanders_file.readline()\n",
    "print(type(line))\n",
    "while line != \"\":\n",
    "    print(line, end='')\n",
    "    line = flanders_file.readline()\n",
    "\n",
    "flanders_file.close()\n"
   ],
   "metadata": {
    "collapsed": false,
    "pycharm": {
     "name": "#%%\n"
    }
   }
  },
  {
   "cell_type": "markdown",
   "source": [
    "### The for line in file approach\n",
    "\n",
    "Like the `readline` approach, this approach also reads in the file line-by-line. It just uses the `in` operator."
   ],
   "metadata": {
    "collapsed": false
   }
  },
  {
   "cell_type": "code",
   "execution_count": 146,
   "outputs": [
    {
     "name": "stdout",
     "output_type": "stream",
     "text": [
      "\n",
      "In Flanders Fields\n",
      "\n",
      "In Flanders fields the poppies blow\n",
      "Between the crosses, row on row,\n",
      "That mark our place; and in the sky\n",
      "The larks, still bravely singing, fly\n",
      "Scarce heard amid the guns below.\n",
      "We are the Dead. Short days ago\n",
      "We lived, felt dawn, saw sunset glow,\n",
      "Loved and were loved, and now we lie\n",
      "In Flanders fields.\n",
      "Take up our quarrel with the foe:\n",
      "To you from failing hands we throw\n",
      "The torch; be yours to hold it high.\n",
      "If ye break faith with us who die\n",
      "We shall not sleep, though poppies grow\n",
      "In Flanders fields.<class 'str'>\n"
     ]
    }
   ],
   "source": [
    "flanders_file = open(\"flanders.txt\", 'r')\n",
    "for line in flanders_file:\n",
    "    print(line, end=\"\")\n",
    "\n",
    "flanders_file.close()\n",
    "print(type(line))"
   ],
   "metadata": {
    "collapsed": false,
    "pycharm": {
     "name": "#%%\n"
    }
   }
  },
  {
   "cell_type": "markdown",
   "source": [
    "### The readlines approach\n",
    "\n",
    "The `readlines` approach reads the whole file in (like `read`) but rather than putting the file in one big string, it creates a list where each line of the file is an entry in the list."
   ],
   "metadata": {
    "collapsed": false
   }
  },
  {
   "cell_type": "code",
   "execution_count": 147,
   "outputs": [
    {
     "name": "stdout",
     "output_type": "stream",
     "text": [
      "<class 'list'>\n",
      "18\n",
      "<class 'str'>\n",
      "['\\n', 'In Flanders Fields\\n', '\\n', 'In Flanders fields the poppies blow\\n', 'Between the crosses, row on row,\\n', 'That mark our place; and in the sky\\n', 'The larks, still bravely singing, fly\\n', 'Scarce heard amid the guns below.\\n', 'We are the Dead. Short days ago\\n', 'We lived, felt dawn, saw sunset glow,\\n', 'Loved and were loved, and now we lie\\n', 'In Flanders fields.\\n', 'Take up our quarrel with the foe:\\n', 'To you from failing hands we throw\\n', 'The torch; be yours to hold it high.\\n', 'If ye break faith with us who die\\n', 'We shall not sleep, though poppies grow\\n', 'In Flanders fields.']\n",
      "\n",
      "In Flanders Fields\n",
      "\n",
      "In Flanders fields the poppies blow\n",
      "Between the crosses, row on row,\n",
      "That mark our place; and in the sky\n",
      "The larks, still bravely singing, fly\n",
      "Scarce heard amid the guns below.\n",
      "We are the Dead. Short days ago\n",
      "We lived, felt dawn, saw sunset glow,\n",
      "Loved and were loved, and now we lie\n",
      "In Flanders fields.\n",
      "Take up our quarrel with the foe:\n",
      "To you from failing hands we throw\n",
      "The torch; be yours to hold it high.\n",
      "If ye break faith with us who die\n",
      "We shall not sleep, though poppies grow\n",
      "In Flanders fields."
     ]
    }
   ],
   "source": [
    "flanders_file = open(\"flanders.txt\", 'r')\n",
    "flanders_list = flanders_file.readlines()\n",
    "flanders_file.close()\n",
    "\n",
    "print(type(flanders_list))\n",
    "print(len(flanders_list))\n",
    "print(type(flanders_list[0]))\n",
    "print(flanders_list)\n",
    "\n",
    "for line in flanders_list:\n",
    "    print(line, end=\"\")\n"
   ],
   "metadata": {
    "collapsed": false,
    "pycharm": {
     "name": "#%%\n"
    }
   }
  },
  {
   "cell_type": "code",
   "execution_count": 148,
   "outputs": [
    {
     "name": "stdout",
     "output_type": "stream",
     "text": [
      "{'Kendrick': 'A+', 'Dre': 'C-', 'Snoop': 'B'}\n"
     ]
    }
   ],
   "source": [
    "filename = 'grades.txt'\n",
    "myfile = open(filename, \"r\")\n",
    "\n",
    "students = {}\n",
    "myfile = open(\"grades.txt\", \"r\")\n",
    "\n",
    "# read each line of the file\n",
    "for line in myfile:\n",
    "    # find indices for slicing each line\n",
    "    ind1 = line.find(',')\n",
    "    ind2 = line.find('\\\\')\n",
    "    name = line[:ind1]\n",
    "    grade = line[ind1+1:ind2]\n",
    "    students[name] = grade\n",
    "\n",
    "myfile.close()\n",
    "\n",
    "print(students)"
   ],
   "metadata": {
    "collapsed": false,
    "pycharm": {
     "name": "#%%\n"
    }
   }
  },
  {
   "cell_type": "markdown",
   "source": [
    "<a id='section4'></a>\n",
    "## 4. The with Statement\n",
    "\n",
    "Notice that whenever we open a file, we need to be careful to close it again. Python provides a nice way to open and then automatically close a file using a `with` block.\n",
    "\n",
    "```\n",
    "with open(«filename», «mode») as «variable»:\n",
    "      «body»\n",
    "```\n",
    "\n",
    "The file is opened at the beginning and **automatically closed** at the end of the body.\n"
   ],
   "metadata": {
    "collapsed": false
   }
  },
  {
   "cell_type": "code",
   "execution_count": 149,
   "outputs": [
    {
     "name": "stdout",
     "output_type": "stream",
     "text": [
      "hola\n",
      "The next line\n"
     ]
    }
   ],
   "source": [
    "def f(file):\n",
    "    print(file.read())\n",
    "\n",
    "with open('test.txt', 'r') as file:  #test.txt is from beginning of notebook\n",
    "    f(file)\n",
    "\n",
    "print(\"The next line\")"
   ],
   "metadata": {
    "collapsed": false,
    "pycharm": {
     "name": "#%%\n"
    }
   }
  },
  {
   "cell_type": "code",
   "execution_count": 150,
   "outputs": [
    {
     "name": "stdout",
     "output_type": "stream",
     "text": [
      "\n",
      "In Flanders Fields\n",
      "\n",
      "In Flanders fields the poppies blow\n",
      "Between the crosses, row on row,\n",
      "That mark our place; and in the sky\n",
      "The larks, still bravely singing, fly\n",
      "Scarce heard amid the guns below.\n",
      "We are the Dead. Short days ago\n",
      "We lived, felt dawn, saw sunset glow,\n",
      "Loved and were loved, and now we lie\n",
      "In Flanders fields.\n",
      "Take up our quarrel with the foe:\n",
      "To you from failing hands we throw\n",
      "The torch; be yours to hold it high.\n",
      "If ye break faith with us who die\n",
      "We shall not sleep, though poppies grow\n",
      "In Flanders fields."
     ]
    }
   ],
   "source": [
    "with open(\"flanders.txt\", 'r') as flanders_file:\n",
    "    for line in flanders_file:\n",
    "        print(line, end=\"\")"
   ],
   "metadata": {
    "collapsed": false,
    "pycharm": {
     "name": "#%%\n"
    }
   }
  },
  {
   "cell_type": "markdown",
   "source": [
    " <a id='section5'></a>\n",
    "## 5. CSV Files\n",
    "\n",
    "The CSV format (comma separated values) is very commonly used to represent the data in a spreadsheet.\n",
    "\n",
    "For example a spreadsheet such as:\n",
    "\n",
    "Name|Test1|Test2|Final\n",
    "----|-----|-----|-----\n",
    "Kendrick|100|50|29\n",
    "Dre|76|32|33\n",
    "Snoop|25|75|95\n",
    "\n",
    "is represented as a file like this:\n",
    "\n",
    "```\n",
    "Name,Test1,Test2,Final\n",
    "Kendrick,100,50,29\n",
    "Dre,76,32,33\n",
    "Snoop,25,75,95\n",
    "```\n",
    "\n",
    "We can, of course, access this files using the techniques above."
   ],
   "metadata": {
    "collapsed": false
   }
  },
  {
   "cell_type": "code",
   "execution_count": 151,
   "outputs": [],
   "source": [
    "csv_file = open('grades.csv','w')\n",
    "csv_file.write('''Name,Test1,Test2,Final\n",
    "Kendrick,100,50,29\n",
    "Dre,76,32,33\n",
    "Snoop,25,75,95\n",
    "''')\n",
    "csv_file.close()"
   ],
   "metadata": {
    "collapsed": false,
    "pycharm": {
     "name": "#%%\n"
    }
   }
  },
  {
   "cell_type": "code",
   "execution_count": 152,
   "outputs": [],
   "source": [
    "with open('grades.csv','w') as csv_file:\n",
    "    csv_file.write('Name,Test1,Test2,Final\\nKendrick,100,50,29\\nDre,76,32,33\\nSnoop,25,75,95')\n"
   ],
   "metadata": {
    "collapsed": false,
    "pycharm": {
     "name": "#%%\n"
    }
   }
  },
  {
   "cell_type": "code",
   "execution_count": 153,
   "outputs": [
    {
     "name": "stdout",
     "output_type": "stream",
     "text": [
      "Name,Test1,Test2,Final\n",
      "Kendrick,100,50,29\n",
      "Dre,76,32,33\n",
      "Snoop,25,75,95"
     ]
    }
   ],
   "source": [
    "with open('grades.csv', 'r') as file:\n",
    "    for line in file:\n",
    "        print(line, end=\"\")"
   ],
   "metadata": {
    "collapsed": false,
    "pycharm": {
     "name": "#%%\n"
    }
   }
  },
  {
   "cell_type": "markdown",
   "source": [
    "Notice that you have the information about each row and also the commas. If you are going to process this data, you are going to need to **parse** it. That means , for example, to discard the commas (as they just separate the data and are not otherwise meaningful), to extract the integers from the string.\n",
    "\n",
    "One of the great things about Python is the existence of many modules that give us the ability to easily do many things, like reading and writing CSV files.\n",
    "\n",
    "Reading of CSV files can be done using the CSV reader. You can construct a reader object using `csv.reader()` which takes the file object as input. The reader object can be used to iterate through the contents of the CSV file, similarly to how a file object was used to iterate through the contents in a text file.\n",
    "\n",
    "The difference between the two is that the file method `read(`) returns the entire contents of the file as one long string, whereas, the CSV `reader()` returns an object which can be iterated through. The reader object holds each row as a list of strings and can be iterated through row by row.\n",
    "\n",
    "Example: Read each row of a CSV file"
   ],
   "metadata": {
    "collapsed": false
   }
  },
  {
   "cell_type": "code",
   "execution_count": 154,
   "outputs": [
    {
     "name": "stdout",
     "output_type": "stream",
     "text": [
      "['Name', 'Test1', 'Test2', 'Final']\n",
      "['Kendrick', '100', '50', '29']\n",
      "['Dre', '76', '32', '33']\n",
      "['Snoop', '25', '75', '95']\n"
     ]
    }
   ],
   "source": [
    "import csv\n",
    "\n",
    "with open('grades.csv', 'r') as csvfile:\n",
    "    grades_reader = csv.reader(csvfile) # create csv.reader object with an open file\n",
    "    #print(grades_reader)\n",
    "    row_num = 1\n",
    "    for row in grades_reader:           # the cvs.reader is an iterable!\n",
    "        print(row, end='\\n')\n",
    "        #print('Row #', row_num, ':', row)\n",
    "        #row_num += 1"
   ],
   "metadata": {
    "collapsed": false,
    "pycharm": {
     "name": "#%%\n"
    }
   }
  },
  {
   "cell_type": "markdown",
   "source": [
    "If we didn’t have a CSV file created, we could create one by:\n",
    "- creating a CSV writer object\n",
    "- using the writerow() method to populate it with data\n",
    "\n",
    "Example: In the previous grade example there were a few marking errors on the final exam.\n"
   ],
   "metadata": {
    "collapsed": false
   }
  },
  {
   "cell_type": "code",
   "execution_count": 155,
   "outputs": [],
   "source": [
    "import csv\n",
    "\n",
    "rows = [['Name', 'Test1', 'Test2', 'Final'],\n",
    "        ['Kendrick', '100', '50', '69'],\n",
    "        ['Dre', '76', '32', '53'],\n",
    "        ['Snoop', '25', '75', '95']]\n",
    "\n",
    "with open('grades_new.csv', 'w') as csvfile:\n",
    "    grades_writer = csv.writer(csvfile)\n",
    "\n",
    "    for row in rows:\n",
    "        grades_writer.writerow(row)"
   ],
   "metadata": {
    "collapsed": false,
    "pycharm": {
     "name": "#%%\n"
    }
   }
  },
  {
   "cell_type": "code",
   "execution_count": 155,
   "outputs": [],
   "source": [],
   "metadata": {
    "collapsed": false,
    "pycharm": {
     "name": "#%%\n"
    }
   }
  },
  {
   "cell_type": "markdown",
   "source": [
    " <a id='section1'></a>\n",
    "\n",
    "# Advanced Data Structures\n",
    "\n",
    "## Linked Lists\n",
    "\n",
    "Linked lists are a linear collection of data elements made up of nodes. Each node contains a link to the next node in the list and a unit (or multiple units) of data (i.e. str, int, list, set, etc.) that we will call the \"cargo\". Linked-list data structures allow for efficient insertion and removal of elements from any position in the sequence without needing to reallocate or reorganize the data. The last node in a linked list is None and does not provide a link to any other nodes.\n",
    "\n",
    "![](images/linked1.png)\n",
    "\n",
    "Insertion of a new node requires that the previous node (node1) point to the new node (new_node), and the new node points to where the previous node had pointed to before (node2).\n",
    "\n",
    "![](images/linked2.png)\n",
    "\n",
    "Let us now use our knowledge of classes to prepare a linked list data structure in Python.\n",
    "\n",
    "### The Node class\n",
    "\n",
    "As usual when writing a new class, we’ll start with the initialization, __init__ and __str__ methods so that we can test the basic mechanism of creating and displaying the new type:\n",
    "\n"
   ],
   "metadata": {
    "collapsed": false
   }
  },
  {
   "cell_type": "code",
   "execution_count": 156,
   "outputs": [
    {
     "name": "stdout",
     "output_type": "stream",
     "text": [
      "test\n"
     ]
    }
   ],
   "source": [
    "class Node:\n",
    "    '''An object that represents and element in a linked list'''\n",
    "\n",
    "    def __init__(self, cargo=None, next=None):\n",
    "        '''\n",
    "        (self,object,Node) -> NoneType\n",
    "        '''\n",
    "        self.cargo = cargo\n",
    "        self.next  = next\n",
    "\n",
    "    def __str__(self):\n",
    "        return str(self.cargo)\n",
    "\n",
    "node = Node(\"test\")\n",
    "print(node)"
   ],
   "metadata": {
    "collapsed": false,
    "pycharm": {
     "name": "#%%\n"
    }
   }
  },
  {
   "cell_type": "markdown",
   "source": [
    "To make it interesting, we need a list with more than one node:"
   ],
   "metadata": {
    "collapsed": false
   }
  },
  {
   "cell_type": "code",
   "execution_count": 157,
   "outputs": [],
   "source": [
    "node1 = Node(1)\n",
    "node2 = Node(2)\n",
    "node3 = Node(3)"
   ],
   "metadata": {
    "collapsed": false,
    "pycharm": {
     "name": "#%%\n"
    }
   }
  },
  {
   "cell_type": "markdown",
   "source": [
    "This code creates three nodes, but we don’t have a list yet because the nodes are not linked. The state diagram looks like this:\n",
    "\n",
    "![LinkedList3](images/linked3.png)\n",
    "\n",
    "To link the nodes, we have to make the first node refer to the second and the second node refer to the third:"
   ],
   "metadata": {
    "collapsed": false
   }
  },
  {
   "cell_type": "code",
   "execution_count": 158,
   "outputs": [
    {
     "name": "stdout",
     "output_type": "stream",
     "text": [
      "1\n",
      "2\n",
      "3\n"
     ]
    }
   ],
   "source": [
    "node1.next = node2\n",
    "node2.next = node3\n",
    "\n",
    "# iterate through linked list\n",
    "head = node1\n",
    "while head:\n",
    "    print(head)\n",
    "    head = head.next"
   ],
   "metadata": {
    "collapsed": false,
    "pycharm": {
     "name": "#%%\n"
    }
   }
  },
  {
   "cell_type": "markdown",
   "source": [
    "The `next` reference of the third node is None, which indicates that it is the end of the list. Now the state diagram looks like this:\n",
    "\n",
    "![LinkedList4](images/linked4.png)\n",
    "\n",
    "We can also add additional elements to the list."
   ],
   "metadata": {
    "collapsed": false
   }
  },
  {
   "cell_type": "code",
   "execution_count": 159,
   "outputs": [
    {
     "name": "stdout",
     "output_type": "stream",
     "text": [
      "current head:  1\n",
      "current head:  3\n",
      "current head:  4\n",
      "current head:  5\n",
      "current head:  6\n",
      "7\n",
      "6\n",
      "5\n",
      "4\n",
      "3\n",
      "1\n",
      "2\n",
      "3\n"
     ]
    }
   ],
   "source": [
    "l = [3,4,5,6,7]\n",
    "head = node1\n",
    "for number in l:\n",
    "    print('current head: ',head)\n",
    "    n = Node(number)\n",
    "    n.next = head #points the next variable of our new node to our current head\n",
    "    head = n #sets head to the newest addition at the beginning of our linked list\n",
    "\n",
    "#print()\n",
    "n = head\n",
    "while n:\n",
    "    print(n)\n",
    "    n = n.next"
   ],
   "metadata": {
    "collapsed": false,
    "pycharm": {
     "name": "#%%\n"
    }
   }
  },
  {
   "cell_type": "markdown",
   "source": [
    " <a id='section2'></a>\n",
    "### Traversing a Linked List\n",
    "\n",
    "Lists are useful because they provide a way to assemble multiple objects into a single entity, sometimes called a collection. The first and last nodes of a linked list are also known as the head and tail of the list, respectively. In the example the first node of the list (head) serves as a reference to the entire list.\n",
    "\n",
    "To pass the list as a parameter, we only have to pass a reference to the first node. For example, the function print_list takes a single node as an argument; starting with the head of the list, it prints each node until it gets to the end or tail of the list, this is also called traversing the list:\n"
   ],
   "metadata": {
    "collapsed": false
   }
  },
  {
   "cell_type": "code",
   "execution_count": 160,
   "outputs": [
    {
     "name": "stdout",
     "output_type": "stream",
     "text": [
      "1\n",
      "2\n",
      "3\n",
      "\n",
      "2\n",
      "3\n"
     ]
    }
   ],
   "source": [
    "class Node:\n",
    "    def __init__(self, cargo=None, next=None):\n",
    "        self.cargo = cargo\n",
    "        self.next  = next\n",
    "\n",
    "    def __str__(self):\n",
    "        return str(self.cargo)\n",
    "\n",
    "\n",
    "#function to print linked nodes\n",
    "def print_list(n):\n",
    "    while n:\n",
    "        print(n)\n",
    "        n = n.next\n",
    "\n",
    "node1 = Node(1)\n",
    "node2 = Node(2)\n",
    "node3 = Node(3)\n",
    "\n",
    "node1.next = node2\n",
    "node2.next = node3\n",
    "\n",
    "print_list(node1)\n",
    "print()\n",
    "print_list(node2)"
   ],
   "metadata": {
    "collapsed": false,
    "pycharm": {
     "name": "#%%\n"
    }
   }
  },
  {
   "cell_type": "markdown",
   "source": [
    "Inside print_list we have a reference to the first node of the list, but there is no variable that refers to the other nodes. We have to use the `next` value from each node to get to the next node. To traverse a linked list, it is common to use a loop variable like `node` to refer to each of the nodes in succession.\n",
    "\n",
    "What would happen if we input `node2` instead of `node1`?\n"
   ],
   "metadata": {
    "collapsed": false
   }
  },
  {
   "cell_type": "code",
   "execution_count": 161,
   "outputs": [
    {
     "name": "stdout",
     "output_type": "stream",
     "text": [
      "2\n",
      "3\n"
     ]
    }
   ],
   "source": [
    "print_list(node2)"
   ],
   "metadata": {
    "collapsed": false,
    "pycharm": {
     "name": "#%%\n"
    }
   }
  },
  {
   "cell_type": "markdown",
   "source": [
    "### Infinite Lists\n",
    "\n",
    "There is nothing to prevent a node from referring back to an earlier node in the list, including itself. For example:\n"
   ],
   "metadata": {
    "collapsed": false
   }
  },
  {
   "cell_type": "code",
   "execution_count": 162,
   "outputs": [],
   "source": [
    "node4 = Node(4)\n",
    "node5 = Node(5)\n",
    "\n",
    "node4.next = node5\n",
    "node5.next = node5\n",
    "#print_list(node4) Will cause an infinite loop"
   ],
   "metadata": {
    "collapsed": false,
    "pycharm": {
     "name": "#%%\n"
    }
   }
  },
  {
   "cell_type": "markdown",
   "source": [
    "This is usually a bug."
   ],
   "metadata": {
    "collapsed": false
   }
  },
  {
   "cell_type": "markdown",
   "source": [
    "### Modifying lists\n",
    "\n",
    "There are two ways to modify a linked list. Obviously, we can change the cargo of one of the nodes, but the more interesting operations are the ones that add, remove, or reorder the nodes.\n",
    "\n",
    "As an example, let’s write a method that removes the second node in the list and returns a reference to the removed node:\n"
   ],
   "metadata": {
    "collapsed": false
   }
  },
  {
   "cell_type": "code",
   "execution_count": 163,
   "outputs": [
    {
     "name": "stdout",
     "output_type": "stream",
     "text": [
      "one\n"
     ]
    }
   ],
   "source": [
    "node1.cargo = 'one' #it is possible to change the cargo by accessing the node's attribute\n",
    "print(node1)"
   ],
   "metadata": {
    "collapsed": false,
    "pycharm": {
     "name": "#%%\n"
    }
   }
  },
  {
   "cell_type": "markdown",
   "source": [
    "## BREAKOUT SESSION\n",
    "Write a function that:<br>\n",
    "1. Removes the second element from a linked list\n",
    "2. Returns that removed node\n",
    "3. If the node is None, return None"
   ],
   "metadata": {
    "collapsed": false
   }
  },
  {
   "cell_type": "code",
   "execution_count": 164,
   "outputs": [],
   "source": [
    "def remove_second(node):\n",
    "    '''Takes in the head of a linked list and\n",
    "    removes and return the second element of the linked list'''\n",
    "\n",
    "    ...\n",
    "\n"
   ],
   "metadata": {
    "collapsed": false,
    "pycharm": {
     "name": "#%%\n"
    }
   }
  },
  {
   "cell_type": "code",
   "execution_count": null,
   "outputs": [],
   "source": [
    "def remove_second(node):\n",
    "    '''Takes in the head of a linked list and\n",
    "    removes and return the second element of the linked list'''\n",
    "    if node is None:\n",
    "        return None\n",
    "\n",
    "    first = node\n",
    "    second = node.next\n",
    "\n",
    "    first.next = second.next\n",
    "    second.next = None\n",
    "\n",
    "    return second\n",
    "\n",
    "\n",
    "print_list(node1)\n",
    "print()\n",
    "removed = remove_second(node1)\n",
    "print_list(removed)\n",
    "print()\n",
    "print_list(node1)"
   ],
   "metadata": {
    "collapsed": false,
    "pycharm": {
     "name": "#%%\n"
    }
   }
  },
  {
   "cell_type": "code",
   "execution_count": 165,
   "outputs": [
    {
     "name": "stdout",
     "output_type": "stream",
     "text": [
      "one\n",
      "2\n",
      "3\n",
      "\n",
      "\n",
      "one\n",
      "2\n",
      "3\n"
     ]
    }
   ],
   "source": [
    "print_list(node1)\n",
    "print()\n",
    "removed = remove_second(node1)\n",
    "print_list(removed)\n",
    "print()\n",
    "print_list(node1)\n"
   ],
   "metadata": {
    "collapsed": false,
    "pycharm": {
     "name": "#%%\n"
    }
   }
  },
  {
   "cell_type": "markdown",
   "source": [
    "Next week, we'll look at a more general `remove` function."
   ],
   "metadata": {
    "collapsed": false
   }
  },
  {
   "cell_type": "markdown",
   "source": [
    "### Print Backwards - Warning: Uses an advanced topic recursion (only continue if you want a challenge)\n",
    "\n",
    "How would we print the list backwards? The easiest way is to write a new `Node` method that does the following:\n",
    "1.\tSeparate the list into two pieces: the current node and the rest.\n",
    "2.\tPrint the rest backward.\n",
    "3.\tPrint the current node.\n"
   ],
   "metadata": {
    "collapsed": false
   }
  },
  {
   "cell_type": "code",
   "execution_count": 166,
   "outputs": [
    {
     "name": "stdout",
     "output_type": "stream",
     "text": [
      "Print forward\n",
      "0 1 2 3 4 5 6 7 \n",
      "Print backward\n",
      "7 6 5 4 3 2 1 0 "
     ]
    }
   ],
   "source": [
    "class Node:\n",
    "    def __init__(self, cargo=None, next=None):\n",
    "        self.cargo = cargo\n",
    "        self.next  = next\n",
    "\n",
    "    def __str__(self):\n",
    "        return str(self.cargo)\n",
    "\n",
    "\n",
    "    # method to print linked nodes backwards\n",
    "    def print_backward(self):\n",
    "        '''\n",
    "        (self) -> NoneType\n",
    "        Prints linked list backward\n",
    "        '''\n",
    "        if self.next:\n",
    "            self.next.print_backward() #A function calling itself is recursion\n",
    "\n",
    "        print(self, end=\" \")\n",
    "\n",
    "# create a list\n",
    "l = list(range(7,-1,-1))\n",
    "head = Node(l[0])\n",
    "for c in l[1:]:\n",
    "    n = Node(c)\n",
    "    n.next = head\n",
    "    head = n\n",
    "\n",
    "print(\"Print forward\")\n",
    "n = head\n",
    "while n:\n",
    "    print(n, end = \" \")\n",
    "    n = n.next\n",
    "print()\n",
    "\n",
    "print(\"Print backward\")\n",
    "head.print_backward()"
   ],
   "metadata": {
    "collapsed": false,
    "pycharm": {
     "name": "#%%\n"
    }
   }
  },
  {
   "cell_type": "markdown",
   "source": [
    "### Wrappers and helpers\n",
    "\n",
    "It is often useful to divide a list operation into two methods. For example, to print a list backward in the conventional list format [3, 2, 1] we can use the print_backward method to print 3, 2, 1 but we need a separate method to print the brackets.\n",
    "\n",
    "Let’s call it `print_backward_nicely`:\n"
   ],
   "metadata": {
    "collapsed": false
   }
  },
  {
   "cell_type": "code",
   "execution_count": 167,
   "outputs": [
    {
     "name": "stdout",
     "output_type": "stream",
     "text": [
      "Print forward\n",
      "0 1 2 3 4 5 6 7 \n",
      "Print backward\n",
      "[7 6 5 4 3 2 1 0 ]\n"
     ]
    }
   ],
   "source": [
    "class Node:\n",
    "    def __init__(self, cargo=None, next=None):\n",
    "        self.cargo = cargo\n",
    "        self.next  = next\n",
    "\n",
    "    def __str__(self):\n",
    "        return str(self.cargo)\n",
    "\n",
    "\n",
    "    # method to print linked nodes backwards\n",
    "    def print_backward(self):\n",
    "        '''\n",
    "        (self) -> NoneType\n",
    "        Prints linked list backward\n",
    "        '''\n",
    "        if self.next:\n",
    "            self.next.print_backward()\n",
    "\n",
    "        print(self, end=\" \")\n",
    "\n",
    "    def print_backward_nicely(self):\n",
    "        '''\n",
    "        (self) -> NoneType\n",
    "        Wrapper to print list with square brackets\n",
    "        '''\n",
    "        print(\"[\", end=\"\")\n",
    "        self.print_backward()\n",
    "        print(\"]\")\n",
    "\n",
    "# create a list\n",
    "l = list(range(7,-1,-1))\n",
    "head = Node(l[0])\n",
    "for c in l[1:]:\n",
    "    n = Node(c)\n",
    "    n.next = head\n",
    "    head = n\n",
    "\n",
    "print(\"Print forward\")\n",
    "n = head\n",
    "while n:\n",
    "    print(n, end = \" \")\n",
    "    n = n.next\n",
    "print()\n",
    "\n",
    "print(\"Print backward\")\n",
    "head.print_backward_nicely()"
   ],
   "metadata": {
    "collapsed": false,
    "pycharm": {
     "name": "#%%\n"
    }
   }
  },
  {
   "cell_type": "markdown",
   "source": [
    "Or if we wanted to get rid of the last space before the \"]\"? Now we need to print the first node in the `print_backward_nicely` method, too."
   ],
   "metadata": {
    "collapsed": false
   }
  },
  {
   "cell_type": "code",
   "execution_count": 168,
   "outputs": [
    {
     "name": "stdout",
     "output_type": "stream",
     "text": [
      "Print forward\n",
      "0 1 2 3 4 5 6 7 \n",
      "Print backward\n",
      "[7 6 5 4 3 2 1 0]\n"
     ]
    }
   ],
   "source": [
    "class Node:\n",
    "    def __init__(self, cargo=None, next=None):\n",
    "        self.cargo = cargo\n",
    "        self.next  = next\n",
    "\n",
    "    def __str__(self):\n",
    "        return str(self.cargo)\n",
    "\n",
    "\n",
    "    # method to print linked nodes backwards\n",
    "    def print_backward(self):\n",
    "        '''\n",
    "        (self) -> NoneType\n",
    "        Prints linked list backward\n",
    "        '''\n",
    "        if self.next:\n",
    "            self.next.print_backward()\n",
    "        print(self, end=\" \")\n",
    "\n",
    "    def print_backward_nicely(self):\n",
    "        '''\n",
    "        (self) -> NoneType\n",
    "        Wrapper to print list with square brackets\n",
    "        '''\n",
    "        print(\"[\", end=\"\")\n",
    "        # if there are more elements in the list, print backward\n",
    "        if self.next:\n",
    "            self.next.print_backward()\n",
    "        print(self,\"]\",sep=\"\") # print out last element with no sep\n",
    "\n",
    "# create a list\n",
    "l = list(range(7,-1,-1))\n",
    "head = Node(l[0])\n",
    "for c in l[1:]:\n",
    "    n = Node(c)\n",
    "    n.next = head\n",
    "    head = n\n",
    "\n",
    "print(\"Print forward\")\n",
    "n = head\n",
    "while n:\n",
    "    print(n, end = \" \")\n",
    "    n = n.next\n",
    "print()\n",
    "\n",
    "print(\"Print backward\")\n",
    "head.print_backward_nicely()"
   ],
   "metadata": {
    "collapsed": false,
    "pycharm": {
     "name": "#%%\n"
    }
   }
  },
  {
   "cell_type": "markdown",
   "source": [
    "When we use this method elsewhere in the program, we call `print_backward_nicely` directly, and it calls `print_backward`. In that sense, `print_backward_nicely` acts as a wrapper that uses `print_backward` as a helper.\n",
    "\n",
    "<div class=\"alert alert-block alert-info\">\n",
    "<big><b>This Lecture</b></big>\n",
    "<ul>\n",
    " <li>Linked list are a flexible data structure where each element links (references) the next element in the list</li>\n",
    "<li>Using functions and/or methods on a Node class, we can implement functionality to add, remove, print linked lists.</li>\n",
    "</ul>\n",
    "</div>"
   ],
   "metadata": {
    "collapsed": false
   }
  },
  {
   "cell_type": "markdown",
   "source": [
    "<a id='section1'></a>\n",
    "## 1. Node Class\n",
    "Here is a simplified version of the `Node` class from last week."
   ],
   "metadata": {
    "collapsed": false
   }
  },
  {
   "cell_type": "code",
   "execution_count": 169,
   "outputs": [],
   "source": [
    "class Node:\n",
    "\n",
    "    \"\"\"A class implementing a node in a linked list.\"\"\"\n",
    "\n",
    "    def __init__(self, cargo):\n",
    "        \"\"\"\n",
    "        (self, object) -> NoneType\n",
    "        Create a Node with cargo and whose next element is next.\n",
    "        \"\"\"\n",
    "        self.cargo = cargo\n",
    "        self.next = None\n",
    "\n",
    "    def __str__(self):\n",
    "        return '(' + str(self.cargo) + ')'"
   ],
   "metadata": {
    "collapsed": false,
    "pycharm": {
     "name": "#%%\n"
    }
   }
  },
  {
   "cell_type": "markdown",
   "source": [
    "Now, let's create three nodes."
   ],
   "metadata": {
    "collapsed": false
   }
  },
  {
   "cell_type": "code",
   "execution_count": 170,
   "outputs": [],
   "source": [
    "node1 = Node(4)\n",
    "node2 = Node(7)\n",
    "node3 = Node(2)"
   ],
   "metadata": {
    "collapsed": false,
    "pycharm": {
     "name": "#%%\n"
    }
   }
  },
  {
   "cell_type": "markdown",
   "source": [
    "And next, let's set the pointer `.next` for `node1` equal to the `node2` and the pointer `.next` for `node2` equal to the `node3`."
   ],
   "metadata": {
    "collapsed": false
   }
  },
  {
   "cell_type": "code",
   "execution_count": 171,
   "outputs": [],
   "source": [
    "node1.next = node2\n",
    "node2.next = node3"
   ],
   "metadata": {
    "collapsed": false,
    "pycharm": {
     "name": "#%%\n"
    }
   }
  },
  {
   "cell_type": "markdown",
   "source": [
    "Let's now check our the `.cargo` for `node1`."
   ],
   "metadata": {
    "collapsed": false
   }
  },
  {
   "cell_type": "code",
   "execution_count": 172,
   "outputs": [
    {
     "data": {
      "text/plain": "'(4)'"
     },
     "execution_count": 172,
     "metadata": {},
     "output_type": "execute_result"
    }
   ],
   "source": [
    "node1.__str__()"
   ],
   "metadata": {
    "collapsed": false,
    "pycharm": {
     "name": "#%%\n"
    }
   }
  },
  {
   "cell_type": "markdown",
   "source": [
    "Or we could use `print`, which called the `__str__` method."
   ],
   "metadata": {
    "collapsed": false
   }
  },
  {
   "cell_type": "code",
   "execution_count": 173,
   "outputs": [
    {
     "name": "stdout",
     "output_type": "stream",
     "text": [
      "(4)\n"
     ]
    }
   ],
   "source": [
    "print(node1)"
   ],
   "metadata": {
    "collapsed": false,
    "pycharm": {
     "name": "#%%\n"
    }
   }
  },
  {
   "cell_type": "markdown",
   "source": [
    "and the pointer for `Node 1`, which is `Node 2`."
   ],
   "metadata": {
    "collapsed": false
   }
  },
  {
   "cell_type": "code",
   "execution_count": 174,
   "outputs": [
    {
     "name": "stdout",
     "output_type": "stream",
     "text": [
      "(7)\n"
     ]
    }
   ],
   "source": [
    "print(node1.next)"
   ],
   "metadata": {
    "collapsed": false,
    "pycharm": {
     "name": "#%%\n"
    }
   }
  },
  {
   "cell_type": "markdown",
   "source": [
    "and the pointer for `Node 2`, which is `Node 3`."
   ],
   "metadata": {
    "collapsed": false
   }
  },
  {
   "cell_type": "code",
   "execution_count": 175,
   "outputs": [
    {
     "name": "stdout",
     "output_type": "stream",
     "text": [
      "(2)\n"
     ]
    }
   ],
   "source": [
    "print(node1.next.next)"
   ],
   "metadata": {
    "collapsed": false,
    "pycharm": {
     "name": "#%%\n"
    }
   }
  },
  {
   "cell_type": "markdown",
   "source": [
    "See, its `Node 3`."
   ],
   "metadata": {
    "collapsed": false
   }
  },
  {
   "cell_type": "code",
   "execution_count": 176,
   "outputs": [
    {
     "name": "stdout",
     "output_type": "stream",
     "text": [
      "(2)\n"
     ]
    }
   ],
   "source": [
    "print(node3)"
   ],
   "metadata": {
    "collapsed": false,
    "pycharm": {
     "name": "#%%\n"
    }
   }
  },
  {
   "cell_type": "markdown",
   "source": [
    "<a id='section2'></a>\n",
    "## 2. Linked List Class\n",
    "Here is the linked list Class."
   ],
   "metadata": {
    "collapsed": false
   }
  },
  {
   "cell_type": "code",
   "execution_count": 177,
   "outputs": [],
   "source": [
    "class LinkedList:\n",
    "\n",
    "    \"\"\"A class that implements a linked list.\"\"\"\n",
    "\n",
    "    def __init__(self):\n",
    "        \"\"\"\n",
    "        (self) -> NoneType\n",
    "        Create an empty linked list.\n",
    "        \"\"\"\n",
    "        self.length = 0\n",
    "        self.head = None\n",
    "\n",
    "    def __str__(self):\n",
    "        \"\"\"\n",
    "        (self) -> str\n",
    "        Print out the entire linked list from head (left) to tail (right).\n",
    "        \"\"\"\n",
    "        if self.head is not None:\n",
    "\n",
    "            string = ''\n",
    "            on = self.head\n",
    "\n",
    "            while on is not None:\n",
    "                string += on.__str__() + ' --> '\n",
    "                on = on.next\n",
    "            else:\n",
    "                string += on.__str__()\n",
    "\n",
    "            return string\n",
    "        else:\n",
    "            return 'empty list'\n",
    "\n",
    "\n",
    "    def add_to_head(self, cargo):\n",
    "        \"\"\"\n",
    "        (self, object) -> NoneType\n",
    "        Add cargo to the front of the list.\n",
    "        \"\"\"\n",
    "        node = Node(cargo)\n",
    "        node.next = self.head\n",
    "        self.head = node\n",
    "        self.length += 1\n",
    "\n",
    "    def add_to_tail(self, cargo):\n",
    "        \"\"\"\n",
    "        (self, object) -> NoneType\n",
    "        Add cargo to the tail of the list.\n",
    "        \"\"\"\n",
    "        on = self.head\n",
    "\n",
    "        while on.next is not None:\n",
    "            on = on.next\n",
    "\n",
    "        on.next = Node(cargo)\n",
    "\n",
    "    def get_at_index(self, index):\n",
    "        \"\"\"\n",
    "        (self, int) -> object\n",
    "        Return the cargo at a certain index.\n",
    "        \"\"\"\n",
    "        on = self.head\n",
    "\n",
    "        while on is not None and index != 0:\n",
    "            on = on.next\n",
    "            index -= 1\n",
    "\n",
    "        if on is not None:\n",
    "            return on.cargo\n",
    "        else:\n",
    "            return False\n",
    "\n",
    "    def delete_by_cargo(self, cargo):\n",
    "        \"\"\"\n",
    "        (self, object) -> NoneType\n",
    "        Remove all nodes with certain cargo value.\n",
    "        \"\"\"\n",
    "        on = self.head\n",
    "\n",
    "        while on is not None and on.next is not None:\n",
    "\n",
    "            while on.next is not None and on.next.cargo == cargo:\n",
    "                on.next = on.next.next\n",
    "\n",
    "            on = on.next"
   ],
   "metadata": {
    "collapsed": false,
    "pycharm": {
     "name": "#%%\n"
    }
   }
  },
  {
   "cell_type": "markdown",
   "source": [
    "### Creating an empty LinkedList"
   ],
   "metadata": {
    "collapsed": false
   }
  },
  {
   "cell_type": "code",
   "execution_count": 178,
   "outputs": [
    {
     "name": "stdout",
     "output_type": "stream",
     "text": [
      "empty list\n"
     ]
    }
   ],
   "source": [
    "linked_list = LinkedList()\n",
    "\n",
    "print(linked_list)"
   ],
   "metadata": {
    "collapsed": false,
    "pycharm": {
     "name": "#%%\n"
    }
   }
  },
  {
   "cell_type": "markdown",
   "source": [
    "### Adding a node to the head"
   ],
   "metadata": {
    "collapsed": false
   }
  },
  {
   "cell_type": "code",
   "execution_count": 179,
   "outputs": [
    {
     "name": "stdout",
     "output_type": "stream",
     "text": [
      "(7) --> (4) --> (2) --> None\n"
     ]
    }
   ],
   "source": [
    "linked_list = LinkedList()\n",
    "\n",
    "linked_list.add_to_head(2)\n",
    "linked_list.add_to_head(4)\n",
    "linked_list.add_to_head(7)\n",
    "\n",
    "print(linked_list)"
   ],
   "metadata": {
    "collapsed": false,
    "pycharm": {
     "name": "#%%\n"
    }
   }
  },
  {
   "cell_type": "markdown",
   "source": [
    "How many node are in this list?"
   ],
   "metadata": {
    "collapsed": false
   }
  },
  {
   "cell_type": "code",
   "execution_count": 180,
   "outputs": [
    {
     "data": {
      "text/plain": "3"
     },
     "execution_count": 180,
     "metadata": {},
     "output_type": "execute_result"
    }
   ],
   "source": [
    "linked_list.length"
   ],
   "metadata": {
    "collapsed": false,
    "pycharm": {
     "name": "#%%\n"
    }
   }
  },
  {
   "cell_type": "markdown",
   "source": [
    "### Adding a node to the tail\n",
    "First, let's create a linked list with one node."
   ],
   "metadata": {
    "collapsed": false
   }
  },
  {
   "cell_type": "code",
   "execution_count": 181,
   "outputs": [
    {
     "name": "stdout",
     "output_type": "stream",
     "text": [
      "(2) --> None\n"
     ]
    }
   ],
   "source": [
    "linked_list = LinkedList()\n",
    "\n",
    "linked_list.add_to_head(2)\n",
    "\n",
    "print(linked_list)"
   ],
   "metadata": {
    "collapsed": false,
    "pycharm": {
     "name": "#%%\n"
    }
   }
  },
  {
   "cell_type": "markdown",
   "source": [
    "Now, let's  add to the tail."
   ],
   "metadata": {
    "collapsed": false
   }
  },
  {
   "cell_type": "code",
   "execution_count": 182,
   "outputs": [
    {
     "name": "stdout",
     "output_type": "stream",
     "text": [
      "(2) --> (3) --> (1) --> (5) --> None\n"
     ]
    }
   ],
   "source": [
    "linked_list.add_to_tail(3)\n",
    "linked_list.add_to_tail(1)\n",
    "linked_list.add_to_tail(5)\n",
    "print(linked_list)"
   ],
   "metadata": {
    "collapsed": false,
    "pycharm": {
     "name": "#%%\n"
    }
   }
  },
  {
   "cell_type": "markdown",
   "source": [
    "Let's add one more."
   ],
   "metadata": {
    "collapsed": false
   }
  },
  {
   "cell_type": "code",
   "execution_count": 183,
   "outputs": [
    {
     "name": "stdout",
     "output_type": "stream",
     "text": [
      "(2) --> (3) --> (1) --> (5) --> (9) --> None\n"
     ]
    }
   ],
   "source": [
    "linked_list.add_to_tail(9)\n",
    "\n",
    "print(linked_list)"
   ],
   "metadata": {
    "collapsed": false,
    "pycharm": {
     "name": "#%%\n"
    }
   }
  },
  {
   "cell_type": "markdown",
   "source": [
    "### Get cargo at index"
   ],
   "metadata": {
    "collapsed": false
   }
  },
  {
   "cell_type": "code",
   "execution_count": 184,
   "outputs": [
    {
     "name": "stdout",
     "output_type": "stream",
     "text": [
      "(2) --> (5) --> (3) --> (8) --> (7) --> None\n"
     ]
    }
   ],
   "source": [
    "linked_list = LinkedList()\n",
    "\n",
    "linked_list.add_to_head(7)\n",
    "linked_list.add_to_head(8)\n",
    "linked_list.add_to_head(3)\n",
    "linked_list.add_to_head(5)\n",
    "linked_list.add_to_head(2)\n",
    "\n",
    "print(linked_list)"
   ],
   "metadata": {
    "collapsed": false,
    "pycharm": {
     "name": "#%%\n"
    }
   }
  },
  {
   "cell_type": "code",
   "execution_count": 185,
   "outputs": [
    {
     "data": {
      "text/plain": "8"
     },
     "execution_count": 185,
     "metadata": {},
     "output_type": "execute_result"
    }
   ],
   "source": [
    "linked_list.get_at_index(3)"
   ],
   "metadata": {
    "collapsed": false,
    "pycharm": {
     "name": "#%%\n"
    }
   }
  },
  {
   "cell_type": "markdown",
   "source": [
    "### Delete nodes with certain cargo"
   ],
   "metadata": {
    "collapsed": false
   }
  },
  {
   "cell_type": "code",
   "execution_count": 186,
   "outputs": [
    {
     "name": "stdout",
     "output_type": "stream",
     "text": [
      "(2) --> (5) --> (3) --> (3) --> (8) --> (7) --> (3) --> None\n"
     ]
    }
   ],
   "source": [
    "linked_list = LinkedList()\n",
    "\n",
    "linked_list.add_to_head(7)\n",
    "linked_list.add_to_head(8)\n",
    "linked_list.add_to_head(3)\n",
    "linked_list.add_to_head(3)\n",
    "linked_list.add_to_head(5)\n",
    "linked_list.add_to_head(2)\n",
    "linked_list.add_to_tail(3)\n",
    "\n",
    "print(linked_list)"
   ],
   "metadata": {
    "collapsed": false,
    "pycharm": {
     "name": "#%%\n"
    }
   }
  },
  {
   "cell_type": "code",
   "execution_count": 187,
   "outputs": [
    {
     "name": "stdout",
     "output_type": "stream",
     "text": [
      "(2) --> (5) --> (8) --> (7) --> None\n"
     ]
    }
   ],
   "source": [
    "linked_list.delete_by_cargo(3)\n",
    "\n",
    "print(linked_list)"
   ],
   "metadata": {
    "collapsed": false,
    "pycharm": {
     "name": "#%%\n"
    }
   }
  },
  {
   "cell_type": "markdown",
   "source": [
    "<a id='section3'></a>\n",
    "## 3. Breakout Session\n",
    "Here is the linked list Class. Complete the method `add_cargo_at_index`, which should add a new node at certain index."
   ],
   "metadata": {
    "collapsed": false
   }
  },
  {
   "cell_type": "code",
   "execution_count": 188,
   "outputs": [],
   "source": [
    "class LinkedList:\n",
    "\n",
    "    \"\"\"A class that implements a linked list.\"\"\"\n",
    "\n",
    "    def __init__(self):\n",
    "        \"\"\"\n",
    "        (self) -> NoneType\n",
    "        Create an empty linked list.\n",
    "        \"\"\"\n",
    "        self.length = 0\n",
    "        self.head = None\n",
    "\n",
    "    def __str__(self):\n",
    "        \"\"\"\n",
    "        (self) -> str\n",
    "        Print out the entire linked list from head (left) to tail (right).\n",
    "        \"\"\"\n",
    "        if self.head is not None:\n",
    "\n",
    "            string = ''\n",
    "            on = self.head\n",
    "\n",
    "            while on is not None:\n",
    "                string += on.__str__() + ' --> '\n",
    "                on = on.next\n",
    "            else:\n",
    "                string += on.__str__()\n",
    "\n",
    "            return string\n",
    "        else:\n",
    "            return 'empty list'\n",
    "\n",
    "\n",
    "    def add_to_head(self, cargo):\n",
    "        \"\"\"\n",
    "        (self, object) -> NoneType\n",
    "        Add cargo to the front of the list.\n",
    "        \"\"\"\n",
    "        node = Node(cargo)\n",
    "        node.next = self.head\n",
    "        self.head = node\n",
    "        self.length += 1\n",
    "\n",
    "    def add_to_tail(self, cargo):\n",
    "        \"\"\"\n",
    "        (self, object) -> NoneType\n",
    "        Add cargo to the tail of the list.\n",
    "        \"\"\"\n",
    "        on = self.head\n",
    "\n",
    "        while on.next is not None:\n",
    "            on = on.next\n",
    "\n",
    "        on.next = Node(cargo)\n",
    "\n",
    "    def get_at_index(self, index):\n",
    "        \"\"\"\n",
    "        (self, int) -> NoneType\n",
    "        Return the cargo at a certain index.\n",
    "        \"\"\"\n",
    "        on = self.head\n",
    "\n",
    "        while on is not None and index != 0:\n",
    "            on = on.next\n",
    "            index -= 1\n",
    "\n",
    "        if on is not None:\n",
    "            return on.cargo\n",
    "        else:\n",
    "            return False\n",
    "\n",
    "    def delete_by_cargo(self, cargo):\n",
    "        \"\"\"\n",
    "        (self, object) -> NoneType\n",
    "        Remove all nodes with certain cargo value.\n",
    "        \"\"\"\n",
    "        on = self.head\n",
    "\n",
    "        while on is not None and on.next is not None:\n",
    "\n",
    "            while on.next is not None and on.next.cargo == cargo:\n",
    "                on.next = on.next.next\n",
    "\n",
    "            on = on.next\n",
    "\n",
    "    def add_cargo_at_index(self, cargo, index):\n",
    "        \"\"\"\n",
    "        (self, object, int) -> NoneType\n",
    "        Add a new node at certain index.\n",
    "        \"\"\"\n",
    "        on = self.head\n",
    "\n",
    "        while on is not None and index != 0:\n",
    "            on = on.next\n",
    "            index -= 1\n",
    "\n",
    "        if on is not None:\n",
    "            # Write your code to add a new Node after \"on\"\n",
    "            ..."
   ],
   "metadata": {
    "collapsed": false,
    "pycharm": {
     "name": "#%%\n"
    }
   }
  },
  {
   "cell_type": "markdown",
   "source": [
    "#### Test\n",
    "Let's create a linked list with 5 nodes."
   ],
   "metadata": {
    "collapsed": false
   }
  },
  {
   "cell_type": "code",
   "execution_count": 189,
   "outputs": [
    {
     "name": "stdout",
     "output_type": "stream",
     "text": [
      "(2) --> (5) --> (3) --> (8) --> (7) --> None\n"
     ]
    }
   ],
   "source": [
    "linked_list = LinkedList()\n",
    "\n",
    "linked_list.add_to_head(7)\n",
    "linked_list.add_to_head(8)\n",
    "linked_list.add_to_head(3)\n",
    "linked_list.add_to_head(5)\n",
    "linked_list.add_to_head(2)\n",
    "\n",
    "print(linked_list)"
   ],
   "metadata": {
    "collapsed": false,
    "pycharm": {
     "name": "#%%\n"
    }
   }
  },
  {
   "cell_type": "markdown",
   "source": [
    "Now, let's insert a new node with `cargo = 10` after the node with `index = 3`."
   ],
   "metadata": {
    "collapsed": false
   }
  },
  {
   "cell_type": "code",
   "execution_count": 190,
   "outputs": [
    {
     "name": "stdout",
     "output_type": "stream",
     "text": [
      "(2) --> (5) --> (3) --> (8) --> (7) --> None\n"
     ]
    }
   ],
   "source": [
    "linked_list.add_cargo_at_index(10, 3)\n",
    "\n",
    "print(linked_list)"
   ],
   "metadata": {
    "collapsed": false,
    "pycharm": {
     "name": "#%%\n"
    }
   }
  },
  {
   "cell_type": "markdown",
   "source": [
    "<a id='section4'></a>\n",
    "## 4. Tree Node Class\n",
    "Let's define a `TreeNode` class."
   ],
   "metadata": {
    "collapsed": false
   }
  },
  {
   "cell_type": "code",
   "execution_count": 191,
   "outputs": [],
   "source": [
    "class TreeNode:\n",
    "\n",
    "    \"\"\"A class that implements a binary tree.\"\"\"\n",
    "\n",
    "    def __init__(self, cargo=None, left=None, right=None):\n",
    "        \"\"\"\n",
    "        (self, object, TreeNode/None, TreeNode/None) -> NoneType\n",
    "        Create a Node with cargo and left and right subtrees.\n",
    "        \"\"\"\n",
    "        self.cargo = cargo\n",
    "        self.left = left\n",
    "        self.right = right\n",
    "\n",
    "    def __str__(self):\n",
    "        return '(' + str(self.cargo) + ')'"
   ],
   "metadata": {
    "collapsed": false,
    "pycharm": {
     "name": "#%%\n"
    }
   }
  },
  {
   "cell_type": "markdown",
   "source": [
    "The cargo can be any type, but the left and right parameters should be tree nodes, the default value is None.\n",
    "\n",
    "The following few steps will illustrate how to build a tree.\n",
    "\n",
    "One way to build a tree is from the bottom up.\n",
    "\n",
    "#### Allocate the leaf nodes first"
   ],
   "metadata": {
    "collapsed": false
   }
  },
  {
   "cell_type": "code",
   "execution_count": 192,
   "outputs": [
    {
     "name": "stdout",
     "output_type": "stream",
     "text": [
      "2\n",
      "3\n"
     ]
    }
   ],
   "source": [
    "left = TreeNode(2)\n",
    "right = TreeNode(3)\n",
    "print(left.cargo)\n",
    "print(right.cargo)"
   ],
   "metadata": {
    "collapsed": false,
    "pycharm": {
     "name": "#%%\n"
    }
   }
  },
  {
   "cell_type": "code",
   "execution_count": 193,
   "outputs": [
    {
     "name": "stdout",
     "output_type": "stream",
     "text": [
      "0\n",
      "2\n",
      "3\n"
     ]
    }
   ],
   "source": [
    "tree = TreeNode(0, left, right)\n",
    "print(tree.cargo)\n",
    "print(tree.left.cargo)\n",
    "print(tree.right.cargo)"
   ],
   "metadata": {
    "collapsed": false,
    "pycharm": {
     "name": "#%%\n"
    }
   }
  },
  {
   "cell_type": "markdown",
   "source": [
    "#### `#cleancode`"
   ],
   "metadata": {
    "collapsed": false
   }
  },
  {
   "cell_type": "code",
   "execution_count": 194,
   "outputs": [
    {
     "name": "stdout",
     "output_type": "stream",
     "text": [
      "0\n",
      "2\n",
      "3\n"
     ]
    }
   ],
   "source": [
    "tree = TreeNode(0, TreeNode(2), TreeNode(3))\n",
    "print(tree.cargo)\n",
    "print(tree.left.cargo)\n",
    "print(tree.right.cargo)"
   ],
   "metadata": {
    "collapsed": false,
    "pycharm": {
     "name": "#%%\n"
    }
   }
  },
  {
   "cell_type": "markdown",
   "source": [
    "<a id='section5'></a>\n",
    "## 5. Binary Tree Class"
   ],
   "metadata": {
    "collapsed": false
   }
  },
  {
   "cell_type": "code",
   "execution_count": 195,
   "outputs": [],
   "source": [
    "class BinaryTree:\n",
    "\n",
    "    \"\"\"A Node class used by a binary tree class.\"\"\"\n",
    "\n",
    "    def __init__(self, root=None):\n",
    "        \"\"\"\n",
    "        (self, TreeNode/None) -> NoneType\n",
    "        Create an empty binary tree.\n",
    "        \"\"\"\n",
    "        self.root = root\n",
    "\n",
    "    def print_tree(self):\n",
    "        \"\"\"\n",
    "        (self) -> NoneType\n",
    "        Prints tree level by level.\n",
    "        \"\"\"\n",
    "        level = [self.root]\n",
    "\n",
    "        while len(level) > 0:\n",
    "\n",
    "            level_next = []\n",
    "\n",
    "            for node in level:\n",
    "\n",
    "                print(node, \" \", end = \"\")\n",
    "\n",
    "                if node.left is not None:\n",
    "                    level_next.append(node.left)\n",
    "                if node.right is not None:\n",
    "                    level_next.append(node.right)\n",
    "\n",
    "            print('\\n')\n",
    "            level = level_next"
   ],
   "metadata": {
    "collapsed": false,
    "pycharm": {
     "name": "#%%\n"
    }
   }
  },
  {
   "cell_type": "markdown",
   "source": [
    "Let's build a binary tree."
   ],
   "metadata": {
    "collapsed": false
   }
  },
  {
   "cell_type": "code",
   "execution_count": 196,
   "outputs": [],
   "source": [
    "tree = BinaryTree(TreeNode(3, TreeNode(2, TreeNode(1), TreeNode(6)), TreeNode(7, TreeNode(2), TreeNode(8))))"
   ],
   "metadata": {
    "collapsed": false,
    "pycharm": {
     "name": "#%%\n"
    }
   }
  },
  {
   "cell_type": "markdown",
   "source": [
    "Now, let's use our `.print_tree()` method to print the tree."
   ],
   "metadata": {
    "collapsed": false
   }
  },
  {
   "cell_type": "code",
   "execution_count": 197,
   "outputs": [
    {
     "name": "stdout",
     "output_type": "stream",
     "text": [
      "(3)  \n",
      "\n",
      "(2)  (7)  \n",
      "\n",
      "(1)  (6)  (2)  (8)  \n",
      "\n"
     ]
    }
   ],
   "source": [
    "tree.print_tree()"
   ],
   "metadata": {
    "collapsed": false,
    "pycharm": {
     "name": "#%%\n"
    }
   }
  }
 ],
 "metadata": {
  "kernelspec": {
   "display_name": "Python 3 (ipykernel)",
   "language": "python",
   "name": "python3"
  },
  "language_info": {
   "codemirror_mode": {
    "name": "ipython",
    "version": 3
   },
   "file_extension": ".py",
   "mimetype": "text/x-python",
   "name": "python",
   "nbconvert_exporter": "python",
   "pygments_lexer": "ipython3",
   "version": "3.7.11"
  }
 },
 "nbformat": 4,
 "nbformat_minor": 1
}