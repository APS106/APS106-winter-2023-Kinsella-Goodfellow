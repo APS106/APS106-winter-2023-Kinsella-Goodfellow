{
 "cells": [
  {
   "cell_type": "code",
   "execution_count": 2,
   "metadata": {},
   "outputs": [],
   "source": [
    "#files $500\n",
    "f = open('f.txt', 'w')\n",
    "f.write( 'Hello\\n')\n",
    "f.write( '\\n')\n",
    "f.close()\n",
    "f = open('f.txt', 'w')\n",
    "f.write('Fun! ')\n",
    "f.close() "
   ]
  },
  {
   "cell_type": "code",
   "execution_count": 4,
   "metadata": {},
   "outputs": [],
   "source": [
    "#files $250\n",
    "names = ['Tina', 'Sue', 'Brad']\n",
    "myfile = open(\"names.txt\", \"w\")\n",
    "for item in names:\n",
    "    myfile.write(item + '\\n')\n",
    "myfile.close() "
   ]
  },
  {
   "cell_type": "code",
   "execution_count": 26,
   "metadata": {},
   "outputs": [
    {
     "name": "stdout",
     "output_type": "stream",
     "text": [
      "APS111 exam on 20th at 9:30\n",
      "APS111 exam on 20th at 2:00\n",
      "APS164 exam on 18th at 9:30\n"
     ]
    }
   ],
   "source": [
    "#files $1000\n",
    "import csv\n",
    "\n",
    "with open('test.csv', newline='') as csvfile:\n",
    "    filereader = csv.reader(csvfile)\n",
    "    for row in filereader:\n",
    "        print(row[0] + ' exam on' + row[2] + 'th at' + row[-1]) "
   ]
  },
  {
   "cell_type": "code",
   "execution_count": 31,
   "metadata": {},
   "outputs": [
    {
     "name": "stdout",
     "output_type": "stream",
     "text": [
      "2019\n"
     ]
    }
   ],
   "source": [
    "#classes $500\n",
    "class Date:\n",
    "    def __init__(self, year, month, day):\n",
    "        self.year = year\n",
    "        self.month = month\n",
    "        self.day = day \n",
    "\n",
    "class Dog:\n",
    "    def __init__(self, first_name, adoption_date):\n",
    "        self.first_name = first_name\n",
    "        self.adoption_date = adoption_date\n",
    "\n",
    "adoption_date = Date(2019, 3, 28)\n",
    "my_dog = Dog(\"Fido\", adoption_date)\n",
    "adoption_date = Date(2017, 1, 1)\n",
    "adoption_date.year = 2018\n",
    "print(my_dog.adoption_date.year)"
   ]
  },
  {
   "cell_type": "code",
   "execution_count": 41,
   "metadata": {},
   "outputs": [
    {
     "name": "stdout",
     "output_type": "stream",
     "text": [
      "my mark in APS-106 was 93\n"
     ]
    }
   ],
   "source": [
    "#classes $250\n",
    "\n",
    "class MyGrades:\n",
    "    def __init__(self, year, month, day, course, grade):\n",
    "        self.year = year\n",
    "        self.month = month\n",
    "        self.day = day \n",
    "        self.course = course\n",
    "        self.grade = grade\n",
    "        \n",
    "    def __str__(self):\n",
    "        return str(\"my mark in \" + self.course + \" was \" + self.grade)\n",
    "        \n",
    "\n",
    "my_mark = MyGrades(2022,'04','23','APS-106','93')\n",
    "\n",
    "print(my_mark)"
   ]
  },
  {
   "cell_type": "code",
   "execution_count": 49,
   "metadata": {},
   "outputs": [
    {
     "data": {
      "text/plain": [
       "60"
      ]
     },
     "execution_count": 49,
     "metadata": {},
     "output_type": "execute_result"
    }
   ],
   "source": [
    "#classes $1000\n",
    "class Vehicle:\n",
    "    def __init__(self, speed, maxSpeed, colour):\n",
    "        self.speed = speed #in km/h\n",
    "        self .maxSpeed = maxSpeed #in km/h\n",
    "        self.colour = colour\n",
    "        \n",
    "    def accelerate(self, x):\n",
    "        '''Increases the Vehicle object's speed by x. Note that\n",
    "        the Vehicle cannot have a speed higher than its maxSpeed\n",
    "        attribute.''' \n",
    "        if (self.speed + x) < self.maxSpeed:\n",
    "            self.speed +=x\n",
    "        \n",
    "my_car = Vehicle(60,80,'red')\n",
    "my_car.accelerate(25)\n",
    "my_car.speed"
   ]
  },
  {
   "cell_type": "code",
   "execution_count": 62,
   "metadata": {},
   "outputs": [],
   "source": [
    "#linked lists/binary trees $250\n",
    "class TreeNode:\n",
    "    \n",
    "    \"\"\"A class that implements a binary tree.\"\"\"\n",
    "\n",
    "    def __init__(self, cargo=None, left=None, right=None):\n",
    "        \"\"\"\n",
    "        (self) -> NoneType\n",
    "        Create a Node with cargo and left and right subtrees.\n",
    "        \"\"\"\n",
    "        self.cargo = cargo\n",
    "        self.left = left\n",
    "        self.right = right\n",
    "        \n",
    "    def __str__(self):\n",
    "        return '(' + str(self.cargo) + ')'"
   ]
  },
  {
   "cell_type": "code",
   "execution_count": 61,
   "metadata": {},
   "outputs": [
    {
     "name": "stdout",
     "output_type": "stream",
     "text": [
      "4\n"
     ]
    }
   ],
   "source": [
    "#linked lists/binary trees $500\n",
    "\n",
    "class Node:\n",
    "    def __init__(self, cargo = 0, next = None):\n",
    "        self.cargo = cargo\n",
    "        self.next = next\n",
    "        \n",
    "    def print_special(self):\n",
    "        if self.next is None:\n",
    "            return\n",
    "        elif self.next:\n",
    "            print(self.cargo)\n",
    "        \n",
    "        \n",
    "n = Node(4, Node(5, Node(6, Node(7, Node(8)))))\n",
    "n.print_special() "
   ]
  },
  {
   "cell_type": "code",
   "execution_count": 73,
   "metadata": {},
   "outputs": [
    {
     "name": "stdout",
     "output_type": "stream",
     "text": [
      "10\n"
     ]
    }
   ],
   "source": [
    "#EXTRA linked lists/binary trees \n",
    "\n",
    "class NodeBT:\n",
    "    def __init__(self, root, left = None, right = None):\n",
    "        '''Creates an object of type NodeBT whose cargo value is c.'''\n",
    "        self.cargo = root\n",
    "        self.left = left\n",
    "        self.right = right\n",
    "    \n",
    "# define a function that will sum all the values in the binary tree\n",
    "\n",
    "######### answer\n",
    "def addBT(root):\n",
    "    if (root == None):\n",
    "        return 0\n",
    "    return (root.cargo + addBT(root.left) + addBT(root.right))\n",
    "###########\n",
    "    \n",
    "t = NodeBT (1, NodeBT (2), NodeBT (3, NodeBT (4)))\n",
    "sum = addBT(t) \n",
    "print(sum)\n"
   ]
  },
  {
   "cell_type": "code",
   "execution_count": null,
   "metadata": {},
   "outputs": [],
   "source": [
    "#linked lists/binary trees $1000\n",
    "\n",
    "class BinarySearchTree:\n",
    "    \n",
    "    \"\"\"A Node class used by a binary search tree class.\"\"\"\n",
    "    \n",
    "    def __init__(self, root=None):\n",
    "        \"\"\"\n",
    "        (self) -> NoneType\n",
    "        Create an empty binary tree.\n",
    "        \"\"\"\n",
    "        self.root = root\n",
    "    \n",
    "    def find(self, cargo):\n",
    "        \"\"\"\n",
    "        (self, number) -> bool\n",
    "        Checks if cargo value is in the tree.\n",
    "        \"\"\"\n",
    "        on = self.root\n",
    "        \n",
    "        while on is not None:\n",
    "\n",
    "            if cargo > on.cargo:\n",
    "                ...\n",
    "                \n",
    "            elif cargo < on.cargo:\n",
    "                ...\n",
    "                \n",
    "            else:\n",
    "                return ... \n",
    "        \n",
    "        return ..."
   ]
  },
  {
   "cell_type": "code",
   "execution_count": 92,
   "metadata": {},
   "outputs": [
    {
     "ename": "TypeError",
     "evalue": "'str' object does not support item assignment",
     "output_type": "error",
     "traceback": [
      "\u001B[0;31m---------------------------------------------------------------------------\u001B[0m",
      "\u001B[0;31mTypeError\u001B[0m                                 Traceback (most recent call last)",
      "\u001B[0;32m<ipython-input-92-b75e9d9a69f8>\u001B[0m in \u001B[0;36m<module>\u001B[0;34m\u001B[0m\n\u001B[1;32m      1\u001B[0m \u001B[0;31m#everything aps106 $250\u001B[0m\u001B[0;34m\u001B[0m\u001B[0;34m\u001B[0m\u001B[0;34m\u001B[0m\u001B[0m\n\u001B[1;32m      2\u001B[0m \u001B[0mandy\u001B[0m \u001B[0;34m=\u001B[0m \u001B[0;34m'randy'\u001B[0m\u001B[0;34m\u001B[0m\u001B[0;34m\u001B[0m\u001B[0m\n\u001B[0;32m----> 3\u001B[0;31m \u001B[0mandy\u001B[0m\u001B[0;34m[\u001B[0m\u001B[0;36m0\u001B[0m\u001B[0;34m]\u001B[0m \u001B[0;34m=\u001B[0m \u001B[0;34m'r'\u001B[0m\u001B[0;34m\u001B[0m\u001B[0;34m\u001B[0m\u001B[0m\n\u001B[0m\u001B[1;32m      4\u001B[0m \u001B[0mprint\u001B[0m\u001B[0;34m(\u001B[0m\u001B[0mandy\u001B[0m\u001B[0;34m)\u001B[0m\u001B[0;34m\u001B[0m\u001B[0;34m\u001B[0m\u001B[0m\n",
      "\u001B[0;31mTypeError\u001B[0m: 'str' object does not support item assignment"
     ]
    }
   ],
   "source": [
    "#everything aps106 $250\n",
    "andy = 'randy'\n",
    "andy[0] = 'r'\n",
    "print(andy)"
   ]
  },
  {
   "cell_type": "code",
   "execution_count": 91,
   "metadata": {},
   "outputs": [
    {
     "name": "stdout",
     "output_type": "stream",
     "text": [
      "1 1\n",
      "(1, 1)\n",
      "1 1\n",
      "(1, 1)\n",
      "2 2\n",
      "(2, 2)\n",
      "2 2\n",
      "(2, 2)\n"
     ]
    }
   ],
   "source": [
    "#everything aps106 $500\n",
    "\n",
    "def my_func(x,y):\n",
    "    print(x,y)\n",
    "    return x, y\n",
    "\n",
    "maxnum = 3\n",
    "           \n",
    "for i in range(1,maxnum):\n",
    "    for j in range(1,maxnum):\n",
    "        print(my_func(i,i))"
   ]
  },
  {
   "cell_type": "code",
   "execution_count": 96,
   "metadata": {},
   "outputs": [
    {
     "name": "stdout",
     "output_type": "stream",
     "text": [
      "[50, 70, 40, 60, 80, 100]\n"
     ]
    }
   ],
   "source": [
    "#everything aps106 $1000\n",
    "\n",
    "number_list = [40,60,80,100,120]\n",
    "\n",
    "def calculator(s):\n",
    "    \" (list) -> list\"\n",
    "    divisor = len(s)\n",
    "    new_list = [50, 70]\n",
    "    i = 0\n",
    "    \n",
    "    while i<4:\n",
    "        value = s[i] / divisor\n",
    "        new_list.append(s[i])\n",
    "        i +=1\n",
    "        \n",
    "    return new_list\n",
    "\n",
    "\n",
    "print(calculator(number_list))"
   ]
  },
  {
   "cell_type": "code",
   "execution_count": 108,
   "metadata": {
    "scrolled": true
   },
   "outputs": [
    {
     "name": "stdout",
     "output_type": "stream",
     "text": [
      "AP\n",
      "BA\n",
      "KI\n"
     ]
    }
   ],
   "source": [
    "#check your methodology $250\n",
    "\n",
    "grocery_list = open(\"groceries.txt\", \"r\")\n",
    "for item in grocery_list:\n",
    "    \n",
    "    item = item.upper()   \n",
    "    print(item[0:2])\n",
    "    \n",
    "grocery_list.close() "
   ]
  },
  {
   "cell_type": "code",
   "execution_count": 111,
   "metadata": {
    "scrolled": true
   },
   "outputs": [
    {
     "ename": "SyntaxError",
     "evalue": "invalid syntax (<ipython-input-111-fde7813234af>, line 3)",
     "output_type": "error",
     "traceback": [
      "\u001B[0;36m  File \u001B[0;32m\"<ipython-input-111-fde7813234af>\"\u001B[0;36m, line \u001B[0;32m3\u001B[0m\n\u001B[0;31m    d = (\"Running\": 45, \"Hiking\":101, \"Biking\":29, \"Walking\": 9000)\u001B[0m\n\u001B[0m                  ^\u001B[0m\n\u001B[0;31mSyntaxError\u001B[0m\u001B[0;31m:\u001B[0m invalid syntax\n"
     ]
    }
   ],
   "source": [
    "#check your methodology $500\n",
    "\n",
    "d = (\"Running\": 45, \"Hiking\":101, \"Biking\":29, \"Walking\": 9000) \n",
    "\n",
    "print(d[0])\n",
    "print(d['Running'])\n",
    "d.pop('Walking')\n",
    "print(d)"
   ]
  },
  {
   "cell_type": "code",
   "execution_count": 4,
   "metadata": {},
   "outputs": [
    {
     "name": "stdout",
     "output_type": "stream",
     "text": [
      "YOM 16 <class 'str'>\n"
     ]
    }
   ],
   "source": [
    "#check your methodology $1000\n",
    "\n",
    "import math\n",
    "\n",
    "class pet_newt:\n",
    "    \n",
    "    def __init__(self, name, weight, age):\n",
    "        self.name = name\n",
    "        self.weight = weight\n",
    "        self.age = age\n",
    "        \n",
    "    def __str__(self):\n",
    "        self.name = self.name[::-2]\n",
    "        self.name = self.name.upper()\n",
    "        self.weight = math.floor(self.weight)\n",
    "        self.age = type(str(self.age))\n",
    "        return str(str(self.name) + ' ' + str(self.weight) + ' ' + str(self.age))\n",
    "\n",
    "    \n",
    "my_pet = pet_newt('Moody',16.7, 5.6)\n",
    "print(my_pet)"
   ]
  },
  {
   "cell_type": "code",
   "execution_count": null,
   "metadata": {},
   "outputs": [],
   "source": [
    "# Final Jeopardy\n",
    "def scramble_items (sample_list):\n",
    "    new_list = []\n",
    "    for item in sample_list:\n",
    "        item = str(item)\n",
    "        new_list.append(item[1::2] + item [0::2])\n",
    "    return new_list"
   ]
  }
 ],
 "metadata": {
  "kernelspec": {
   "display_name": "Python 3",
   "language": "python",
   "name": "python3"
  },
  "language_info": {
   "codemirror_mode": {
    "name": "ipython",
    "version": 3
   },
   "file_extension": ".py",
   "mimetype": "text/x-python",
   "name": "python",
   "nbconvert_exporter": "python",
   "pygments_lexer": "ipython3",
   "version": "3.8.5"
  }
 },
 "nbformat": 4,
 "nbformat_minor": 4
}